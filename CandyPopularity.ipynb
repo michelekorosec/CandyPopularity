{
 "cells": [
  {
   "cell_type": "code",
   "execution_count": 1,
   "metadata": {},
   "outputs": [],
   "source": [
    "import pandas as pd\n",
    "import matplotlib as mpl\n",
    "import matplotlib.pyplot as plt\n",
    "import scipy.stats\n",
    "import statsmodels.api as sm\n",
    "import numpy as np\n",
    "import pingouin"
   ]
  },
  {
   "cell_type": "code",
   "execution_count": 2,
   "metadata": {},
   "outputs": [
    {
     "name": "stdout",
     "output_type": "stream",
     "text": [
      "<class 'pandas.core.frame.DataFrame'>\n",
      "RangeIndex: 85 entries, 0 to 84\n",
      "Data columns (total 13 columns):\n",
      " #   Column            Non-Null Count  Dtype  \n",
      "---  ------            --------------  -----  \n",
      " 0   competitorname    85 non-null     object \n",
      " 1   chocolate         85 non-null     int64  \n",
      " 2   fruity            85 non-null     int64  \n",
      " 3   caramel           85 non-null     int64  \n",
      " 4   peanutyalmondy    85 non-null     int64  \n",
      " 5   nougat            85 non-null     int64  \n",
      " 6   crispedricewafer  85 non-null     int64  \n",
      " 7   hard              85 non-null     int64  \n",
      " 8   bar               85 non-null     int64  \n",
      " 9   pluribus          85 non-null     int64  \n",
      " 10  sugarpercent      85 non-null     float64\n",
      " 11  pricepercent      85 non-null     float64\n",
      " 12  winpercent        85 non-null     float64\n",
      "dtypes: float64(3), int64(9), object(1)\n",
      "memory usage: 8.8+ KB\n"
     ]
    }
   ],
   "source": [
    "raw_data = pd.read_csv(\"candy-data.csv\")\n",
    "raw_data.info()"
   ]
  },
  {
   "cell_type": "code",
   "execution_count": 3,
   "metadata": {},
   "outputs": [
    {
     "data": {
      "text/html": [
       "<div>\n",
       "<style scoped>\n",
       "    .dataframe tbody tr th:only-of-type {\n",
       "        vertical-align: middle;\n",
       "    }\n",
       "\n",
       "    .dataframe tbody tr th {\n",
       "        vertical-align: top;\n",
       "    }\n",
       "\n",
       "    .dataframe thead th {\n",
       "        text-align: right;\n",
       "    }\n",
       "</style>\n",
       "<table border=\"1\" class=\"dataframe\">\n",
       "  <thead>\n",
       "    <tr style=\"text-align: right;\">\n",
       "      <th></th>\n",
       "      <th>chocolate</th>\n",
       "      <th>fruity</th>\n",
       "      <th>caramel</th>\n",
       "      <th>peanutyalmondy</th>\n",
       "      <th>nougat</th>\n",
       "      <th>crispedricewafer</th>\n",
       "      <th>hard</th>\n",
       "      <th>bar</th>\n",
       "      <th>pluribus</th>\n",
       "      <th>sugarpercent</th>\n",
       "      <th>pricepercent</th>\n",
       "      <th>winpercent</th>\n",
       "    </tr>\n",
       "  </thead>\n",
       "  <tbody>\n",
       "    <tr>\n",
       "      <th>count</th>\n",
       "      <td>85.000000</td>\n",
       "      <td>85.000000</td>\n",
       "      <td>85.000000</td>\n",
       "      <td>85.000000</td>\n",
       "      <td>85.000000</td>\n",
       "      <td>85.000000</td>\n",
       "      <td>85.000000</td>\n",
       "      <td>85.000000</td>\n",
       "      <td>85.000000</td>\n",
       "      <td>85.000000</td>\n",
       "      <td>85.000000</td>\n",
       "      <td>85.000000</td>\n",
       "    </tr>\n",
       "    <tr>\n",
       "      <th>mean</th>\n",
       "      <td>0.435294</td>\n",
       "      <td>0.447059</td>\n",
       "      <td>0.164706</td>\n",
       "      <td>0.164706</td>\n",
       "      <td>0.082353</td>\n",
       "      <td>0.082353</td>\n",
       "      <td>0.176471</td>\n",
       "      <td>0.247059</td>\n",
       "      <td>0.517647</td>\n",
       "      <td>0.478647</td>\n",
       "      <td>0.468882</td>\n",
       "      <td>50.316764</td>\n",
       "    </tr>\n",
       "    <tr>\n",
       "      <th>std</th>\n",
       "      <td>0.498738</td>\n",
       "      <td>0.500140</td>\n",
       "      <td>0.373116</td>\n",
       "      <td>0.373116</td>\n",
       "      <td>0.276533</td>\n",
       "      <td>0.276533</td>\n",
       "      <td>0.383482</td>\n",
       "      <td>0.433861</td>\n",
       "      <td>0.502654</td>\n",
       "      <td>0.282778</td>\n",
       "      <td>0.285740</td>\n",
       "      <td>14.714357</td>\n",
       "    </tr>\n",
       "    <tr>\n",
       "      <th>min</th>\n",
       "      <td>0.000000</td>\n",
       "      <td>0.000000</td>\n",
       "      <td>0.000000</td>\n",
       "      <td>0.000000</td>\n",
       "      <td>0.000000</td>\n",
       "      <td>0.000000</td>\n",
       "      <td>0.000000</td>\n",
       "      <td>0.000000</td>\n",
       "      <td>0.000000</td>\n",
       "      <td>0.011000</td>\n",
       "      <td>0.011000</td>\n",
       "      <td>22.445341</td>\n",
       "    </tr>\n",
       "    <tr>\n",
       "      <th>25%</th>\n",
       "      <td>0.000000</td>\n",
       "      <td>0.000000</td>\n",
       "      <td>0.000000</td>\n",
       "      <td>0.000000</td>\n",
       "      <td>0.000000</td>\n",
       "      <td>0.000000</td>\n",
       "      <td>0.000000</td>\n",
       "      <td>0.000000</td>\n",
       "      <td>0.000000</td>\n",
       "      <td>0.220000</td>\n",
       "      <td>0.255000</td>\n",
       "      <td>39.141056</td>\n",
       "    </tr>\n",
       "    <tr>\n",
       "      <th>50%</th>\n",
       "      <td>0.000000</td>\n",
       "      <td>0.000000</td>\n",
       "      <td>0.000000</td>\n",
       "      <td>0.000000</td>\n",
       "      <td>0.000000</td>\n",
       "      <td>0.000000</td>\n",
       "      <td>0.000000</td>\n",
       "      <td>0.000000</td>\n",
       "      <td>1.000000</td>\n",
       "      <td>0.465000</td>\n",
       "      <td>0.465000</td>\n",
       "      <td>47.829754</td>\n",
       "    </tr>\n",
       "    <tr>\n",
       "      <th>75%</th>\n",
       "      <td>1.000000</td>\n",
       "      <td>1.000000</td>\n",
       "      <td>0.000000</td>\n",
       "      <td>0.000000</td>\n",
       "      <td>0.000000</td>\n",
       "      <td>0.000000</td>\n",
       "      <td>0.000000</td>\n",
       "      <td>0.000000</td>\n",
       "      <td>1.000000</td>\n",
       "      <td>0.732000</td>\n",
       "      <td>0.651000</td>\n",
       "      <td>59.863998</td>\n",
       "    </tr>\n",
       "    <tr>\n",
       "      <th>max</th>\n",
       "      <td>1.000000</td>\n",
       "      <td>1.000000</td>\n",
       "      <td>1.000000</td>\n",
       "      <td>1.000000</td>\n",
       "      <td>1.000000</td>\n",
       "      <td>1.000000</td>\n",
       "      <td>1.000000</td>\n",
       "      <td>1.000000</td>\n",
       "      <td>1.000000</td>\n",
       "      <td>0.988000</td>\n",
       "      <td>0.976000</td>\n",
       "      <td>84.180290</td>\n",
       "    </tr>\n",
       "  </tbody>\n",
       "</table>\n",
       "</div>"
      ],
      "text/plain": [
       "       chocolate     fruity    caramel  peanutyalmondy     nougat  \\\n",
       "count  85.000000  85.000000  85.000000       85.000000  85.000000   \n",
       "mean    0.435294   0.447059   0.164706        0.164706   0.082353   \n",
       "std     0.498738   0.500140   0.373116        0.373116   0.276533   \n",
       "min     0.000000   0.000000   0.000000        0.000000   0.000000   \n",
       "25%     0.000000   0.000000   0.000000        0.000000   0.000000   \n",
       "50%     0.000000   0.000000   0.000000        0.000000   0.000000   \n",
       "75%     1.000000   1.000000   0.000000        0.000000   0.000000   \n",
       "max     1.000000   1.000000   1.000000        1.000000   1.000000   \n",
       "\n",
       "       crispedricewafer       hard        bar   pluribus  sugarpercent  \\\n",
       "count         85.000000  85.000000  85.000000  85.000000     85.000000   \n",
       "mean           0.082353   0.176471   0.247059   0.517647      0.478647   \n",
       "std            0.276533   0.383482   0.433861   0.502654      0.282778   \n",
       "min            0.000000   0.000000   0.000000   0.000000      0.011000   \n",
       "25%            0.000000   0.000000   0.000000   0.000000      0.220000   \n",
       "50%            0.000000   0.000000   0.000000   1.000000      0.465000   \n",
       "75%            0.000000   0.000000   0.000000   1.000000      0.732000   \n",
       "max            1.000000   1.000000   1.000000   1.000000      0.988000   \n",
       "\n",
       "       pricepercent  winpercent  \n",
       "count     85.000000   85.000000  \n",
       "mean       0.468882   50.316764  \n",
       "std        0.285740   14.714357  \n",
       "min        0.011000   22.445341  \n",
       "25%        0.255000   39.141056  \n",
       "50%        0.465000   47.829754  \n",
       "75%        0.651000   59.863998  \n",
       "max        0.976000   84.180290  "
      ]
     },
     "execution_count": 3,
     "metadata": {},
     "output_type": "execute_result"
    }
   ],
   "source": [
    "raw_data.describe()"
   ]
  },
  {
   "cell_type": "code",
   "execution_count": 4,
   "metadata": {},
   "outputs": [
    {
     "data": {
      "text/html": [
       "<div>\n",
       "<style scoped>\n",
       "    .dataframe tbody tr th:only-of-type {\n",
       "        vertical-align: middle;\n",
       "    }\n",
       "\n",
       "    .dataframe tbody tr th {\n",
       "        vertical-align: top;\n",
       "    }\n",
       "\n",
       "    .dataframe thead th {\n",
       "        text-align: right;\n",
       "    }\n",
       "</style>\n",
       "<table border=\"1\" class=\"dataframe\">\n",
       "  <thead>\n",
       "    <tr style=\"text-align: right;\">\n",
       "      <th></th>\n",
       "      <th>competitorname</th>\n",
       "      <th>chocolate</th>\n",
       "      <th>fruity</th>\n",
       "      <th>caramel</th>\n",
       "      <th>peanutyalmondy</th>\n",
       "      <th>nougat</th>\n",
       "      <th>crispedricewafer</th>\n",
       "      <th>hard</th>\n",
       "      <th>bar</th>\n",
       "      <th>pluribus</th>\n",
       "      <th>sugarpercent</th>\n",
       "      <th>pricepercent</th>\n",
       "      <th>winpercent</th>\n",
       "    </tr>\n",
       "  </thead>\n",
       "  <tbody>\n",
       "    <tr>\n",
       "      <th>0</th>\n",
       "      <td>100 Grand</td>\n",
       "      <td>1</td>\n",
       "      <td>0</td>\n",
       "      <td>1</td>\n",
       "      <td>0</td>\n",
       "      <td>0</td>\n",
       "      <td>1</td>\n",
       "      <td>0</td>\n",
       "      <td>1</td>\n",
       "      <td>0</td>\n",
       "      <td>0.732</td>\n",
       "      <td>0.860</td>\n",
       "      <td>66.971725</td>\n",
       "    </tr>\n",
       "    <tr>\n",
       "      <th>1</th>\n",
       "      <td>3 Musketeers</td>\n",
       "      <td>1</td>\n",
       "      <td>0</td>\n",
       "      <td>0</td>\n",
       "      <td>0</td>\n",
       "      <td>1</td>\n",
       "      <td>0</td>\n",
       "      <td>0</td>\n",
       "      <td>1</td>\n",
       "      <td>0</td>\n",
       "      <td>0.604</td>\n",
       "      <td>0.511</td>\n",
       "      <td>67.602936</td>\n",
       "    </tr>\n",
       "    <tr>\n",
       "      <th>2</th>\n",
       "      <td>One dime</td>\n",
       "      <td>0</td>\n",
       "      <td>0</td>\n",
       "      <td>0</td>\n",
       "      <td>0</td>\n",
       "      <td>0</td>\n",
       "      <td>0</td>\n",
       "      <td>0</td>\n",
       "      <td>0</td>\n",
       "      <td>0</td>\n",
       "      <td>0.011</td>\n",
       "      <td>0.116</td>\n",
       "      <td>32.261086</td>\n",
       "    </tr>\n",
       "    <tr>\n",
       "      <th>3</th>\n",
       "      <td>One quarter</td>\n",
       "      <td>0</td>\n",
       "      <td>0</td>\n",
       "      <td>0</td>\n",
       "      <td>0</td>\n",
       "      <td>0</td>\n",
       "      <td>0</td>\n",
       "      <td>0</td>\n",
       "      <td>0</td>\n",
       "      <td>0</td>\n",
       "      <td>0.011</td>\n",
       "      <td>0.511</td>\n",
       "      <td>46.116505</td>\n",
       "    </tr>\n",
       "    <tr>\n",
       "      <th>4</th>\n",
       "      <td>Air Heads</td>\n",
       "      <td>0</td>\n",
       "      <td>1</td>\n",
       "      <td>0</td>\n",
       "      <td>0</td>\n",
       "      <td>0</td>\n",
       "      <td>0</td>\n",
       "      <td>0</td>\n",
       "      <td>0</td>\n",
       "      <td>0</td>\n",
       "      <td>0.906</td>\n",
       "      <td>0.511</td>\n",
       "      <td>52.341465</td>\n",
       "    </tr>\n",
       "  </tbody>\n",
       "</table>\n",
       "</div>"
      ],
      "text/plain": [
       "  competitorname  chocolate  fruity  caramel  peanutyalmondy  nougat  \\\n",
       "0      100 Grand          1       0        1               0       0   \n",
       "1   3 Musketeers          1       0        0               0       1   \n",
       "2       One dime          0       0        0               0       0   \n",
       "3    One quarter          0       0        0               0       0   \n",
       "4      Air Heads          0       1        0               0       0   \n",
       "\n",
       "   crispedricewafer  hard  bar  pluribus  sugarpercent  pricepercent  \\\n",
       "0                 1     0    1         0         0.732         0.860   \n",
       "1                 0     0    1         0         0.604         0.511   \n",
       "2                 0     0    0         0         0.011         0.116   \n",
       "3                 0     0    0         0         0.011         0.511   \n",
       "4                 0     0    0         0         0.906         0.511   \n",
       "\n",
       "   winpercent  \n",
       "0   66.971725  \n",
       "1   67.602936  \n",
       "2   32.261086  \n",
       "3   46.116505  \n",
       "4   52.341465  "
      ]
     },
     "execution_count": 4,
     "metadata": {},
     "output_type": "execute_result"
    }
   ],
   "source": [
    "raw_data.head()"
   ]
  },
  {
   "cell_type": "code",
   "execution_count": 5,
   "metadata": {},
   "outputs": [
    {
     "data": {
      "text/plain": [
       "<matplotlib.collections.PathCollection at 0x7f9b7c8cda90>"
      ]
     },
     "execution_count": 5,
     "metadata": {},
     "output_type": "execute_result"
    },
    {
     "data": {
      "image/png": "[encoded data removed]",
      "text/plain": [
       "<Figure size 432x288 with 1 Axes>"
      ]
     },
     "metadata": {
      "needs_background": "light"
     },
     "output_type": "display_data"
    }
   ],
   "source": [
    "plt.scatter(raw_data[\"pricepercent\"],raw_data[\"winpercent\"])"
   ]
  },
  {
   "cell_type": "code",
   "execution_count": 6,
   "metadata": {},
   "outputs": [
    {
     "data": {
      "text/plain": [
       "(0.34532540996768485, 0.0012088290261781025)"
      ]
     },
     "execution_count": 6,
     "metadata": {},
     "output_type": "execute_result"
    }
   ],
   "source": [
    "scipy.stats.pearsonr(raw_data[\"pricepercent\"],raw_data[\"winpercent\"])"
   ]
  },
  {
   "cell_type": "code",
   "execution_count": 7,
   "metadata": {},
   "outputs": [
    {
     "data": {
      "text/plain": [
       "array([[1.10000000e-02, 3.71186281e+01],\n",
       "       [2.30000000e-02, 3.76882590e+01],\n",
       "       [3.40000020e-02, 3.82534557e+01],\n",
       "       [3.40000020e-02, 3.82534557e+01],\n",
       "       [5.79999980e-02, 3.96323458e+01],\n",
       "       [6.89999980e-02, 4.03309113e+01],\n",
       "       [8.10000000e-02, 4.11461228e+01],\n",
       "       [9.30000020e-02, 4.20320026e+01],\n",
       "       [1.04000000e-01, 4.29307860e+01],\n",
       "       [1.16000000e-01, 4.40475772e+01],\n",
       "       [1.16000000e-01, 4.40475772e+01],\n",
       "       [1.16000000e-01, 4.40475772e+01],\n",
       "       [1.16000000e-01, 4.40475772e+01],\n",
       "       [1.16000000e-01, 4.40475772e+01],\n",
       "       [1.16000000e-01, 4.40475772e+01],\n",
       "       [1.16000000e-01, 4.40475772e+01],\n",
       "       [1.16000000e-01, 4.40475772e+01],\n",
       "       [1.16000000e-01, 4.40475772e+01],\n",
       "       [2.20000000e-01, 6.08239699e+01],\n",
       "       [2.20000000e-01, 6.08239699e+01],\n",
       "       [2.20000000e-01, 6.08239699e+01],\n",
       "       [2.55000000e-01, 5.30844376e+01],\n",
       "       [2.66999990e-01, 5.09480826e+01],\n",
       "       [2.79000010e-01, 4.88238631e+01],\n",
       "       [2.79000010e-01, 4.88238631e+01],\n",
       "       [2.79000010e-01, 4.88238631e+01],\n",
       "       [3.12999990e-01, 4.32874336e+01],\n",
       "       [3.24999990e-01, 4.18519840e+01],\n",
       "       [3.24999990e-01, 4.18519840e+01],\n",
       "       [3.24999990e-01, 4.18519840e+01],\n",
       "       [3.24999990e-01, 4.18519840e+01],\n",
       "       [3.24999990e-01, 4.18519840e+01],\n",
       "       [3.24999990e-01, 4.18519840e+01],\n",
       "       [3.24999990e-01, 4.18519840e+01],\n",
       "       [3.24999990e-01, 4.18519840e+01],\n",
       "       [3.24999990e-01, 4.18519840e+01],\n",
       "       [3.24999990e-01, 4.18519840e+01],\n",
       "       [4.41000010e-01, 5.15674939e+01],\n",
       "       [4.53000010e-01, 5.03142061e+01],\n",
       "       [4.65000000e-01, 4.91824848e+01],\n",
       "       [4.65000000e-01, 4.91824848e+01],\n",
       "       [4.65000000e-01, 4.91824848e+01],\n",
       "       [4.65000000e-01, 4.91824848e+01],\n",
       "       [5.10999980e-01, 4.51256555e+01],\n",
       "       [5.10999980e-01, 4.51256555e+01],\n",
       "       [5.10999980e-01, 4.51256555e+01],\n",
       "       [5.10999980e-01, 4.51256555e+01],\n",
       "       [5.10999980e-01, 4.51256555e+01],\n",
       "       [5.10999980e-01, 4.51256555e+01],\n",
       "       [5.10999980e-01, 4.51256555e+01],\n",
       "       [5.10999980e-01, 4.51256555e+01],\n",
       "       [5.10999980e-01, 4.51256555e+01],\n",
       "       [5.10999980e-01, 4.51256555e+01],\n",
       "       [5.10999980e-01, 4.51256555e+01],\n",
       "       [5.10999980e-01, 4.51256555e+01],\n",
       "       [6.51000020e-01, 7.19368094e+01],\n",
       "       [6.51000020e-01, 7.19368094e+01],\n",
       "       [6.51000020e-01, 7.19368094e+01],\n",
       "       [6.51000020e-01, 7.19368094e+01],\n",
       "       [6.51000020e-01, 7.19368094e+01],\n",
       "       [6.51000020e-01, 7.19368094e+01],\n",
       "       [6.51000020e-01, 7.19368094e+01],\n",
       "       [6.51000020e-01, 7.19368094e+01],\n",
       "       [6.51000020e-01, 7.19368094e+01],\n",
       "       [7.55000000e-01, 5.96795923e+01],\n",
       "       [7.67000020e-01, 5.80630812e+01],\n",
       "       [7.67000020e-01, 5.80630812e+01],\n",
       "       [7.67000020e-01, 5.80630812e+01],\n",
       "       [7.67000020e-01, 5.80630812e+01],\n",
       "       [7.67000020e-01, 5.80630812e+01],\n",
       "       [7.67000020e-01, 5.80630812e+01],\n",
       "       [8.37000010e-01, 5.58482046e+01],\n",
       "       [8.47999990e-01, 5.53000775e+01],\n",
       "       [8.60000010e-01, 5.45838634e+01],\n",
       "       [8.60000010e-01, 5.45838634e+01],\n",
       "       [8.60000010e-01, 5.45838634e+01],\n",
       "       [8.60000010e-01, 5.45838634e+01],\n",
       "       [9.06000020e-01, 5.16028572e+01],\n",
       "       [9.17999980e-01, 5.08176191e+01],\n",
       "       [9.17999980e-01, 5.08176191e+01],\n",
       "       [9.17999980e-01, 5.08176191e+01],\n",
       "       [9.17999980e-01, 5.08176191e+01],\n",
       "       [9.64999970e-01, 4.75609343e+01],\n",
       "       [9.76000010e-01, 4.67066318e+01],\n",
       "       [9.76000010e-01, 4.67066318e+01]])"
      ]
     },
     "execution_count": 7,
     "metadata": {},
     "output_type": "execute_result"
    }
   ],
   "source": [
    "lowess = sm.nonparametric.lowess(raw_data[\"winpercent\"],raw_data[\"pricepercent\"],frac=0.3)\n",
    "lowess"
   ]
  },
  {
   "cell_type": "code",
   "execution_count": 8,
   "metadata": {},
   "outputs": [
    {
     "data": {
      "image/png": "[encoded data removed]",
      "text/plain": [
       "<Figure size 576x360 with 1 Axes>"
      ]
     },
     "metadata": {},
     "output_type": "display_data"
    }
   ],
   "source": [
    "order = np.argsort(lowess[:,0])\n",
    "x_smooth = lowess[order,0]\n",
    "y_smooth = lowess[order,1]\n",
    "\n",
    "fig, ax = plt.subplots(figsize=(8, 5),facecolor=\"white\")\n",
    "ax.scatter(raw_data[\"pricepercent\"],raw_data[\"winpercent\"],alpha = 0.5, edgecolor = \"k\", label = \"data\")\n",
    "\n",
    "ax.plot(x_smooth,y_smooth,color=\"crimson\",linewidth=2,label=\"LOWESS\")\n",
    "\n",
    "ax.set_xlabel(\"price percent\")\n",
    "ax.set_ylabel(\"win percent\")\n",
    "ax.set_title(\"Price vs. Popularity with LOWESS trend\")\n",
    "ax.legend()\n",
    "fig.tight_layout()"
   ]
  },
  {
   "cell_type": "markdown",
   "metadata": {},
   "source": [
    "Moderate correlation between price and popularity, results are highly significant. Candy around 65% price point seems to be especially popular. This can be used as an indicator for pricing of the new candy type, however the (unknown) candy brand could be an additional factor influencing price and popularity."
   ]
  },
  {
   "cell_type": "code",
   "execution_count": 21,
   "metadata": {},
   "outputs": [
    {
     "data": {
      "text/plain": [
       "<matplotlib.collections.PathCollection at 0x7f9b7d033d30>"
      ]
     },
     "execution_count": 21,
     "metadata": {},
     "output_type": "execute_result"
    },
    {
     "data": {
      "image/png": "[encoded data removed]",
      "text/plain": [
       "<Figure size 432x288 with 1 Axes>"
      ]
     },
     "metadata": {
      "needs_background": "light"
     },
     "output_type": "display_data"
    }
   ],
   "source": [
    "plt.scatter(raw_data[\"sugarpercent\"],raw_data[\"winpercent\"])"
   ]
  },
  {
   "cell_type": "code",
   "execution_count": 10,
   "metadata": {},
   "outputs": [
    {
     "data": {
      "text/plain": [
       "(0.2291506571280065, 0.03489789676169812)"
      ]
     },
     "execution_count": 10,
     "metadata": {},
     "output_type": "execute_result"
    }
   ],
   "source": [
    "scipy.stats.pearsonr(raw_data[\"sugarpercent\"],raw_data[\"winpercent\"])"
   ]
  },
  {
   "cell_type": "code",
   "execution_count": 19,
   "metadata": {},
   "outputs": [
    {
     "data": {
      "text/plain": [
       "array([[1.10000000e-02, 4.18752328e+01],\n",
       "       [1.10000000e-02, 4.18752328e+01],\n",
       "       [3.40000020e-02, 4.22302778e+01],\n",
       "       [4.60000000e-02, 4.23980677e+01],\n",
       "       [4.60000000e-02, 4.23980677e+01],\n",
       "       [6.89999980e-02, 4.26814589e+01],\n",
       "       [6.89999980e-02, 4.26814589e+01],\n",
       "       [9.30000020e-02, 4.29435582e+01],\n",
       "       [9.30000020e-02, 4.29435582e+01],\n",
       "       [9.30000020e-02, 4.29435582e+01],\n",
       "       [1.27000000e-01, 4.31442231e+01],\n",
       "       [1.27000000e-01, 4.31442231e+01],\n",
       "       [1.50999990e-01, 4.28872923e+01],\n",
       "       [1.62000000e-01, 4.28689926e+01],\n",
       "       [1.73999990e-01, 4.28423129e+01],\n",
       "       [1.86000000e-01, 4.28589839e+01],\n",
       "       [1.97000000e-01, 4.29065133e+01],\n",
       "       [1.97000000e-01, 4.29065133e+01],\n",
       "       [2.20000000e-01, 4.36970188e+01],\n",
       "       [2.20000000e-01, 4.36970188e+01],\n",
       "       [2.20000000e-01, 4.36970188e+01],\n",
       "       [2.20000000e-01, 4.36970188e+01],\n",
       "       [2.66999990e-01, 4.64137860e+01],\n",
       "       [2.66999990e-01, 4.64137860e+01],\n",
       "       [2.66999990e-01, 4.64137860e+01],\n",
       "       [3.01999990e-01, 4.97851543e+01],\n",
       "       [3.12999990e-01, 5.05154331e+01],\n",
       "       [3.12999990e-01, 5.05154331e+01],\n",
       "       [3.12999990e-01, 5.05154331e+01],\n",
       "       [3.12999990e-01, 5.05154331e+01],\n",
       "       [3.12999990e-01, 5.05154331e+01],\n",
       "       [3.12999990e-01, 5.05154331e+01],\n",
       "       [3.12999990e-01, 5.05154331e+01],\n",
       "       [3.12999990e-01, 5.05154331e+01],\n",
       "       [4.05999990e-01, 5.17449689e+01],\n",
       "       [4.18000010e-01, 5.16472815e+01],\n",
       "       [4.30000010e-01, 5.18862469e+01],\n",
       "       [4.30000010e-01, 5.18862469e+01],\n",
       "       [4.30000010e-01, 5.18862469e+01],\n",
       "       [4.65000000e-01, 5.26499317e+01],\n",
       "       [4.65000000e-01, 5.26499317e+01],\n",
       "       [4.65000000e-01, 5.26499317e+01],\n",
       "       [4.65000000e-01, 5.26499317e+01],\n",
       "       [4.65000000e-01, 5.26499317e+01],\n",
       "       [4.65000000e-01, 5.26499317e+01],\n",
       "       [4.65000000e-01, 5.26499317e+01],\n",
       "       [5.46000000e-01, 5.42100426e+01],\n",
       "       [5.46000000e-01, 5.42100426e+01],\n",
       "       [5.69000010e-01, 5.49928791e+01],\n",
       "       [5.80999970e-01, 5.52016557e+01],\n",
       "       [5.92999990e-01, 5.57381774e+01],\n",
       "       [6.03999970e-01, 5.44644280e+01],\n",
       "       [6.03999970e-01, 5.44644280e+01],\n",
       "       [6.03999970e-01, 5.44644280e+01],\n",
       "       [6.03999970e-01, 5.44644280e+01],\n",
       "       [6.03999970e-01, 5.44644280e+01],\n",
       "       [6.03999970e-01, 5.44644280e+01],\n",
       "       [6.03999970e-01, 5.44644280e+01],\n",
       "       [6.03999970e-01, 5.44644280e+01],\n",
       "       [6.03999970e-01, 5.44644280e+01],\n",
       "       [6.03999970e-01, 5.44644280e+01],\n",
       "       [7.20000030e-01, 4.68246694e+01],\n",
       "       [7.31999990e-01, 4.62289790e+01],\n",
       "       [7.31999990e-01, 4.62289790e+01],\n",
       "       [7.31999990e-01, 4.62289790e+01],\n",
       "       [7.31999990e-01, 4.62289790e+01],\n",
       "       [7.31999990e-01, 4.62289790e+01],\n",
       "       [7.31999990e-01, 4.62289790e+01],\n",
       "       [7.31999990e-01, 4.62289790e+01],\n",
       "       [7.31999990e-01, 4.62289790e+01],\n",
       "       [8.24999990e-01, 5.06965618e+01],\n",
       "       [8.24999990e-01, 5.06965618e+01],\n",
       "       [8.47999990e-01, 5.17197986e+01],\n",
       "       [8.60000010e-01, 5.22836105e+01],\n",
       "       [8.71999980e-01, 5.28464103e+01],\n",
       "       [8.71999980e-01, 5.28464103e+01],\n",
       "       [8.71999980e-01, 5.28464103e+01],\n",
       "       [9.06000020e-01, 5.43682689e+01],\n",
       "       [9.06000020e-01, 5.43682689e+01],\n",
       "       [9.06000020e-01, 5.43682689e+01],\n",
       "       [9.40999980e-01, 5.58068822e+01],\n",
       "       [9.40999980e-01, 5.58068822e+01],\n",
       "       [9.64999970e-01, 5.67544949e+01],\n",
       "       [9.64999970e-01, 5.67544949e+01],\n",
       "       [9.87999980e-01, 5.76580784e+01]])"
      ]
     },
     "execution_count": 19,
     "metadata": {},
     "output_type": "execute_result"
    }
   ],
   "source": [
    "lowess_sugar = sm.nonparametric.lowess(raw_data[\"winpercent\"],raw_data[\"sugarpercent\"],frac=0.3)\n",
    "lowess_sugar"
   ]
  },
  {
   "cell_type": "code",
   "execution_count": 20,
   "metadata": {},
   "outputs": [
    {
     "data": {
      "image/png": "[encoded data removed]",
      "text/plain": [
       "<Figure size 576x360 with 1 Axes>"
      ]
     },
     "metadata": {},
     "output_type": "display_data"
    }
   ],
   "source": [
    "order = np.argsort(lowess_sugar[:,0])\n",
    "x_smooth = lowess_sugar[order,0]\n",
    "y_smooth = lowess_sugar[order,1]\n",
    "\n",
    "fig, ax = plt.subplots(figsize=(8, 5),facecolor=\"white\")\n",
    "ax.scatter(raw_data[\"sugarpercent\"],raw_data[\"winpercent\"],alpha = 0.5, edgecolor = \"k\", label = \"data\")\n",
    "\n",
    "ax.plot(x_smooth,y_smooth,color=\"crimson\",linewidth=2,label=\"LOWESS\")\n",
    "\n",
    "\n",
    "ax.set_xlabel(\"sugar percent\")\n",
    "ax.set_ylabel(\"win percent\")\n",
    "ax.set_title(\"Sugar vs. Popularity with LOWESS trend\")\n",
    "ax.legend()\n",
    "fig.tight_layout()"
   ]
  },
  {
   "cell_type": "markdown",
   "metadata": {},
   "source": [
    "Low to moderate correlation between sugar content and popularity, results are significant. Higher sugar content apparently does not hurt; no apparent sweet spot for sugar content."
   ]
  },
  {
   "cell_type": "code",
   "execution_count": 11,
   "metadata": {},
   "outputs": [
    {
     "data": {
      "text/plain": [
       "<matplotlib.collections.PathCollection at 0x7f9b7ccdfd60>"
      ]
     },
     "execution_count": 11,
     "metadata": {},
     "output_type": "execute_result"
    },
    {
     "data": {
      "image/png": "[encoded data removed]",
      "text/plain": [
       "<Figure size 432x288 with 1 Axes>"
      ]
     },
     "metadata": {
      "needs_background": "light"
     },
     "output_type": "display_data"
    }
   ],
   "source": [
    "plt.scatter(raw_data[\"sugarpercent\"],raw_data[\"pricepercent\"])"
   ]
  },
  {
   "cell_type": "code",
   "execution_count": 12,
   "metadata": {},
   "outputs": [
    {
     "data": {
      "text/plain": [
       "(0.32970638758895476, 0.0020604027524857168)"
      ]
     },
     "execution_count": 12,
     "metadata": {},
     "output_type": "execute_result"
    }
   ],
   "source": [
    "scipy.stats.pearsonr(raw_data[\"sugarpercent\"],raw_data[\"pricepercent\"])"
   ]
  },
  {
   "cell_type": "markdown",
   "metadata": {},
   "source": [
    "Moderate correlation between sugar and price, high significance."
   ]
  },
  {
   "cell_type": "code",
   "execution_count": 13,
   "metadata": {},
   "outputs": [
    {
     "name": "stdout",
     "output_type": "stream",
     "text": [
      "<class 'pandas.core.frame.DataFrame'>\n",
      "RangeIndex: 85 entries, 0 to 84\n",
      "Data columns (total 3 columns):\n",
      " #   Column        Non-Null Count  Dtype  \n",
      "---  ------        --------------  -----  \n",
      " 0   pricepercent  85 non-null     float64\n",
      " 1   sugarpercent  85 non-null     float64\n",
      " 2   winpercent    85 non-null     float64\n",
      "dtypes: float64(3)\n",
      "memory usage: 2.1 KB\n"
     ]
    }
   ],
   "source": [
    "metric_vars = raw_data[[\"pricepercent\",\"sugarpercent\",\"winpercent\"]].copy()\n",
    "metric_vars.info()"
   ]
  },
  {
   "cell_type": "code",
   "execution_count": 17,
   "metadata": {},
   "outputs": [
    {
     "data": {
      "text/html": [
       "<div>\n",
       "<style scoped>\n",
       "    .dataframe tbody tr th:only-of-type {\n",
       "        vertical-align: middle;\n",
       "    }\n",
       "\n",
       "    .dataframe tbody tr th {\n",
       "        vertical-align: top;\n",
       "    }\n",
       "\n",
       "    .dataframe thead th {\n",
       "        text-align: right;\n",
       "    }\n",
       "</style>\n",
       "<table border=\"1\" class=\"dataframe\">\n",
       "  <thead>\n",
       "    <tr style=\"text-align: right;\">\n",
       "      <th></th>\n",
       "      <th>n</th>\n",
       "      <th>r</th>\n",
       "      <th>CI95%</th>\n",
       "      <th>p-val</th>\n",
       "    </tr>\n",
       "  </thead>\n",
       "  <tbody>\n",
       "    <tr>\n",
       "      <th>pearson</th>\n",
       "      <td>85</td>\n",
       "      <td>0.293563</td>\n",
       "      <td>[0.08, 0.48]</td>\n",
       "      <td>0.006724</td>\n",
       "    </tr>\n",
       "  </tbody>\n",
       "</table>\n",
       "</div>"
      ],
      "text/plain": [
       "          n         r         CI95%     p-val\n",
       "pearson  85  0.293563  [0.08, 0.48]  0.006724"
      ]
     },
     "execution_count": 17,
     "metadata": {},
     "output_type": "execute_result"
    }
   ],
   "source": [
    "pcorr_price = pingouin.partial_corr(data = metric_vars, x = \"pricepercent\", y = \"winpercent\", covar = \"sugarpercent\", method = \"pearson\")\n",
    "pcorr_price"
   ]
  },
  {
   "cell_type": "code",
   "execution_count": 18,
   "metadata": {},
   "outputs": [
    {
     "data": {
      "text/html": [
       "<div>\n",
       "<style scoped>\n",
       "    .dataframe tbody tr th:only-of-type {\n",
       "        vertical-align: middle;\n",
       "    }\n",
       "\n",
       "    .dataframe tbody tr th {\n",
       "        vertical-align: top;\n",
       "    }\n",
       "\n",
       "    .dataframe thead th {\n",
       "        text-align: right;\n",
       "    }\n",
       "</style>\n",
       "<table border=\"1\" class=\"dataframe\">\n",
       "  <thead>\n",
       "    <tr style=\"text-align: right;\">\n",
       "      <th></th>\n",
       "      <th>n</th>\n",
       "      <th>r</th>\n",
       "      <th>CI95%</th>\n",
       "      <th>p-val</th>\n",
       "    </tr>\n",
       "  </thead>\n",
       "  <tbody>\n",
       "    <tr>\n",
       "      <th>pearson</th>\n",
       "      <td>85</td>\n",
       "      <td>0.130128</td>\n",
       "      <td>[-0.09, 0.34]</td>\n",
       "      <td>0.238079</td>\n",
       "    </tr>\n",
       "  </tbody>\n",
       "</table>\n",
       "</div>"
      ],
      "text/plain": [
       "          n         r          CI95%     p-val\n",
       "pearson  85  0.130128  [-0.09, 0.34]  0.238079"
      ]
     },
     "execution_count": 18,
     "metadata": {},
     "output_type": "execute_result"
    }
   ],
   "source": [
    "pcorr_sugar = pingouin.partial_corr(data = metric_vars, x = \"sugarpercent\", y = \"winpercent\", covar = \"pricepercent\", method = \"pearson\")\n",
    "pcorr_sugar"
   ]
  },
  {
   "cell_type": "markdown",
   "metadata": {},
   "source": [
    "Price apparently influences buying choice more than the sugar content (pcorr_sugar significantly lower than non-partial correlation). Initial sugar correlation seems to be confounded by the price."
   ]
  },
  {
   "cell_type": "code",
   "execution_count": null,
   "metadata": {},
   "outputs": [],
   "source": []
  }
 ],
 "metadata": {
  "kernelspec": {
   "display_name": "Python 3",
   "language": "python",
   "name": "python3"
  },
  "language_info": {
   "codemirror_mode": {
    "name": "ipython",
    "version": 3
   },
   "file_extension": ".py",
   "mimetype": "text/x-python",
   "name": "python",
   "nbconvert_exporter": "python",
   "pygments_lexer": "ipython3",
   "version": "3.8.7"
  }
 },
 "nbformat": 4,
 "nbformat_minor": 2
}
