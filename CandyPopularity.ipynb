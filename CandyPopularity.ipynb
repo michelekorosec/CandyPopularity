{
 "cells": [
  {
   "cell_type": "code",
   "execution_count": 261,
   "metadata": {},
   "outputs": [],
   "source": [
    "import pandas as pd\n",
    "import matplotlib.pyplot as plt\n",
    "import scipy.stats\n",
    "import statsmodels.api as sm\n",
    "import numpy as np\n",
    "#For correlation analysis\n",
    "import pingouin\n",
    "#For ML\n",
    "from sklearn.preprocessing import StandardScaler\n",
    "from sklearn.model_selection import train_test_split\n",
    "from sklearn.linear_model import ElasticNet, ElasticNetCV\n",
    "from sklearn.model_selection import RepeatedKFold, cross_val_score\n",
    "from sklearn.pipeline import make_pipeline"
   ]
  },
  {
   "cell_type": "code",
   "execution_count": 262,
   "metadata": {},
   "outputs": [
    {
     "name": "stdout",
     "output_type": "stream",
     "text": [
      "<class 'pandas.core.frame.DataFrame'>\n",
      "RangeIndex: 85 entries, 0 to 84\n",
      "Data columns (total 13 columns):\n",
      " #   Column            Non-Null Count  Dtype  \n",
      "---  ------            --------------  -----  \n",
      " 0   competitorname    85 non-null     object \n",
      " 1   chocolate         85 non-null     int64  \n",
      " 2   fruity            85 non-null     int64  \n",
      " 3   caramel           85 non-null     int64  \n",
      " 4   peanutyalmondy    85 non-null     int64  \n",
      " 5   nougat            85 non-null     int64  \n",
      " 6   crispedricewafer  85 non-null     int64  \n",
      " 7   hard              85 non-null     int64  \n",
      " 8   bar               85 non-null     int64  \n",
      " 9   pluribus          85 non-null     int64  \n",
      " 10  sugarpercent      85 non-null     float64\n",
      " 11  pricepercent      85 non-null     float64\n",
      " 12  winpercent        85 non-null     float64\n",
      "dtypes: float64(3), int64(9), object(1)\n",
      "memory usage: 8.8+ KB\n"
     ]
    }
   ],
   "source": [
    "#Import data\n",
    "raw_data = pd.read_csv(\"candy-data.csv\")\n",
    "raw_data.info()"
   ]
  },
  {
   "cell_type": "code",
   "execution_count": 263,
   "metadata": {},
   "outputs": [
    {
     "data": {
      "text/html": [
       "<div>\n",
       "<style scoped>\n",
       "    .dataframe tbody tr th:only-of-type {\n",
       "        vertical-align: middle;\n",
       "    }\n",
       "\n",
       "    .dataframe tbody tr th {\n",
       "        vertical-align: top;\n",
       "    }\n",
       "\n",
       "    .dataframe thead th {\n",
       "        text-align: right;\n",
       "    }\n",
       "</style>\n",
       "<table border=\"1\" class=\"dataframe\">\n",
       "  <thead>\n",
       "    <tr style=\"text-align: right;\">\n",
       "      <th></th>\n",
       "      <th>chocolate</th>\n",
       "      <th>fruity</th>\n",
       "      <th>caramel</th>\n",
       "      <th>peanutyalmondy</th>\n",
       "      <th>nougat</th>\n",
       "      <th>crispedricewafer</th>\n",
       "      <th>hard</th>\n",
       "      <th>bar</th>\n",
       "      <th>pluribus</th>\n",
       "      <th>sugarpercent</th>\n",
       "      <th>pricepercent</th>\n",
       "      <th>winpercent</th>\n",
       "    </tr>\n",
       "  </thead>\n",
       "  <tbody>\n",
       "    <tr>\n",
       "      <th>count</th>\n",
       "      <td>85.000000</td>\n",
       "      <td>85.000000</td>\n",
       "      <td>85.000000</td>\n",
       "      <td>85.000000</td>\n",
       "      <td>85.000000</td>\n",
       "      <td>85.000000</td>\n",
       "      <td>85.000000</td>\n",
       "      <td>85.000000</td>\n",
       "      <td>85.000000</td>\n",
       "      <td>85.000000</td>\n",
       "      <td>85.000000</td>\n",
       "      <td>85.000000</td>\n",
       "    </tr>\n",
       "    <tr>\n",
       "      <th>mean</th>\n",
       "      <td>0.435294</td>\n",
       "      <td>0.447059</td>\n",
       "      <td>0.164706</td>\n",
       "      <td>0.164706</td>\n",
       "      <td>0.082353</td>\n",
       "      <td>0.082353</td>\n",
       "      <td>0.176471</td>\n",
       "      <td>0.247059</td>\n",
       "      <td>0.517647</td>\n",
       "      <td>0.478647</td>\n",
       "      <td>0.468882</td>\n",
       "      <td>50.316764</td>\n",
       "    </tr>\n",
       "    <tr>\n",
       "      <th>std</th>\n",
       "      <td>0.498738</td>\n",
       "      <td>0.500140</td>\n",
       "      <td>0.373116</td>\n",
       "      <td>0.373116</td>\n",
       "      <td>0.276533</td>\n",
       "      <td>0.276533</td>\n",
       "      <td>0.383482</td>\n",
       "      <td>0.433861</td>\n",
       "      <td>0.502654</td>\n",
       "      <td>0.282778</td>\n",
       "      <td>0.285740</td>\n",
       "      <td>14.714357</td>\n",
       "    </tr>\n",
       "    <tr>\n",
       "      <th>min</th>\n",
       "      <td>0.000000</td>\n",
       "      <td>0.000000</td>\n",
       "      <td>0.000000</td>\n",
       "      <td>0.000000</td>\n",
       "      <td>0.000000</td>\n",
       "      <td>0.000000</td>\n",
       "      <td>0.000000</td>\n",
       "      <td>0.000000</td>\n",
       "      <td>0.000000</td>\n",
       "      <td>0.011000</td>\n",
       "      <td>0.011000</td>\n",
       "      <td>22.445341</td>\n",
       "    </tr>\n",
       "    <tr>\n",
       "      <th>25%</th>\n",
       "      <td>0.000000</td>\n",
       "      <td>0.000000</td>\n",
       "      <td>0.000000</td>\n",
       "      <td>0.000000</td>\n",
       "      <td>0.000000</td>\n",
       "      <td>0.000000</td>\n",
       "      <td>0.000000</td>\n",
       "      <td>0.000000</td>\n",
       "      <td>0.000000</td>\n",
       "      <td>0.220000</td>\n",
       "      <td>0.255000</td>\n",
       "      <td>39.141056</td>\n",
       "    </tr>\n",
       "    <tr>\n",
       "      <th>50%</th>\n",
       "      <td>0.000000</td>\n",
       "      <td>0.000000</td>\n",
       "      <td>0.000000</td>\n",
       "      <td>0.000000</td>\n",
       "      <td>0.000000</td>\n",
       "      <td>0.000000</td>\n",
       "      <td>0.000000</td>\n",
       "      <td>0.000000</td>\n",
       "      <td>1.000000</td>\n",
       "      <td>0.465000</td>\n",
       "      <td>0.465000</td>\n",
       "      <td>47.829754</td>\n",
       "    </tr>\n",
       "    <tr>\n",
       "      <th>75%</th>\n",
       "      <td>1.000000</td>\n",
       "      <td>1.000000</td>\n",
       "      <td>0.000000</td>\n",
       "      <td>0.000000</td>\n",
       "      <td>0.000000</td>\n",
       "      <td>0.000000</td>\n",
       "      <td>0.000000</td>\n",
       "      <td>0.000000</td>\n",
       "      <td>1.000000</td>\n",
       "      <td>0.732000</td>\n",
       "      <td>0.651000</td>\n",
       "      <td>59.863998</td>\n",
       "    </tr>\n",
       "    <tr>\n",
       "      <th>max</th>\n",
       "      <td>1.000000</td>\n",
       "      <td>1.000000</td>\n",
       "      <td>1.000000</td>\n",
       "      <td>1.000000</td>\n",
       "      <td>1.000000</td>\n",
       "      <td>1.000000</td>\n",
       "      <td>1.000000</td>\n",
       "      <td>1.000000</td>\n",
       "      <td>1.000000</td>\n",
       "      <td>0.988000</td>\n",
       "      <td>0.976000</td>\n",
       "      <td>84.180290</td>\n",
       "    </tr>\n",
       "  </tbody>\n",
       "</table>\n",
       "</div>"
      ],
      "text/plain": [
       "       chocolate     fruity    caramel  peanutyalmondy     nougat  \\\n",
       "count  85.000000  85.000000  85.000000       85.000000  85.000000   \n",
       "mean    0.435294   0.447059   0.164706        0.164706   0.082353   \n",
       "std     0.498738   0.500140   0.373116        0.373116   0.276533   \n",
       "min     0.000000   0.000000   0.000000        0.000000   0.000000   \n",
       "25%     0.000000   0.000000   0.000000        0.000000   0.000000   \n",
       "50%     0.000000   0.000000   0.000000        0.000000   0.000000   \n",
       "75%     1.000000   1.000000   0.000000        0.000000   0.000000   \n",
       "max     1.000000   1.000000   1.000000        1.000000   1.000000   \n",
       "\n",
       "       crispedricewafer       hard        bar   pluribus  sugarpercent  \\\n",
       "count         85.000000  85.000000  85.000000  85.000000     85.000000   \n",
       "mean           0.082353   0.176471   0.247059   0.517647      0.478647   \n",
       "std            0.276533   0.383482   0.433861   0.502654      0.282778   \n",
       "min            0.000000   0.000000   0.000000   0.000000      0.011000   \n",
       "25%            0.000000   0.000000   0.000000   0.000000      0.220000   \n",
       "50%            0.000000   0.000000   0.000000   1.000000      0.465000   \n",
       "75%            0.000000   0.000000   0.000000   1.000000      0.732000   \n",
       "max            1.000000   1.000000   1.000000   1.000000      0.988000   \n",
       "\n",
       "       pricepercent  winpercent  \n",
       "count     85.000000   85.000000  \n",
       "mean       0.468882   50.316764  \n",
       "std        0.285740   14.714357  \n",
       "min        0.011000   22.445341  \n",
       "25%        0.255000   39.141056  \n",
       "50%        0.465000   47.829754  \n",
       "75%        0.651000   59.863998  \n",
       "max        0.976000   84.180290  "
      ]
     },
     "execution_count": 263,
     "metadata": {},
     "output_type": "execute_result"
    }
   ],
   "source": [
    "#Get overview of the data\n",
    "raw_data.describe()"
   ]
  },
  {
   "cell_type": "markdown",
   "metadata": {},
   "source": [
    "No null values. Properties present in less than 10% of the samples: nougat, crispedricewafer."
   ]
  },
  {
   "cell_type": "code",
   "execution_count": 264,
   "metadata": {},
   "outputs": [
    {
     "data": {
      "text/html": [
       "<div>\n",
       "<style scoped>\n",
       "    .dataframe tbody tr th:only-of-type {\n",
       "        vertical-align: middle;\n",
       "    }\n",
       "\n",
       "    .dataframe tbody tr th {\n",
       "        vertical-align: top;\n",
       "    }\n",
       "\n",
       "    .dataframe thead th {\n",
       "        text-align: right;\n",
       "    }\n",
       "</style>\n",
       "<table border=\"1\" class=\"dataframe\">\n",
       "  <thead>\n",
       "    <tr style=\"text-align: right;\">\n",
       "      <th></th>\n",
       "      <th>competitorname</th>\n",
       "      <th>chocolate</th>\n",
       "      <th>fruity</th>\n",
       "      <th>caramel</th>\n",
       "      <th>peanutyalmondy</th>\n",
       "      <th>nougat</th>\n",
       "      <th>crispedricewafer</th>\n",
       "      <th>hard</th>\n",
       "      <th>bar</th>\n",
       "      <th>pluribus</th>\n",
       "      <th>sugarpercent</th>\n",
       "      <th>pricepercent</th>\n",
       "      <th>winpercent</th>\n",
       "    </tr>\n",
       "  </thead>\n",
       "  <tbody>\n",
       "    <tr>\n",
       "      <th>0</th>\n",
       "      <td>100 Grand</td>\n",
       "      <td>1</td>\n",
       "      <td>0</td>\n",
       "      <td>1</td>\n",
       "      <td>0</td>\n",
       "      <td>0</td>\n",
       "      <td>1</td>\n",
       "      <td>0</td>\n",
       "      <td>1</td>\n",
       "      <td>0</td>\n",
       "      <td>0.732</td>\n",
       "      <td>0.860</td>\n",
       "      <td>66.971725</td>\n",
       "    </tr>\n",
       "    <tr>\n",
       "      <th>1</th>\n",
       "      <td>3 Musketeers</td>\n",
       "      <td>1</td>\n",
       "      <td>0</td>\n",
       "      <td>0</td>\n",
       "      <td>0</td>\n",
       "      <td>1</td>\n",
       "      <td>0</td>\n",
       "      <td>0</td>\n",
       "      <td>1</td>\n",
       "      <td>0</td>\n",
       "      <td>0.604</td>\n",
       "      <td>0.511</td>\n",
       "      <td>67.602936</td>\n",
       "    </tr>\n",
       "    <tr>\n",
       "      <th>2</th>\n",
       "      <td>One dime</td>\n",
       "      <td>0</td>\n",
       "      <td>0</td>\n",
       "      <td>0</td>\n",
       "      <td>0</td>\n",
       "      <td>0</td>\n",
       "      <td>0</td>\n",
       "      <td>0</td>\n",
       "      <td>0</td>\n",
       "      <td>0</td>\n",
       "      <td>0.011</td>\n",
       "      <td>0.116</td>\n",
       "      <td>32.261086</td>\n",
       "    </tr>\n",
       "    <tr>\n",
       "      <th>3</th>\n",
       "      <td>One quarter</td>\n",
       "      <td>0</td>\n",
       "      <td>0</td>\n",
       "      <td>0</td>\n",
       "      <td>0</td>\n",
       "      <td>0</td>\n",
       "      <td>0</td>\n",
       "      <td>0</td>\n",
       "      <td>0</td>\n",
       "      <td>0</td>\n",
       "      <td>0.011</td>\n",
       "      <td>0.511</td>\n",
       "      <td>46.116505</td>\n",
       "    </tr>\n",
       "    <tr>\n",
       "      <th>4</th>\n",
       "      <td>Air Heads</td>\n",
       "      <td>0</td>\n",
       "      <td>1</td>\n",
       "      <td>0</td>\n",
       "      <td>0</td>\n",
       "      <td>0</td>\n",
       "      <td>0</td>\n",
       "      <td>0</td>\n",
       "      <td>0</td>\n",
       "      <td>0</td>\n",
       "      <td>0.906</td>\n",
       "      <td>0.511</td>\n",
       "      <td>52.341465</td>\n",
       "    </tr>\n",
       "  </tbody>\n",
       "</table>\n",
       "</div>"
      ],
      "text/plain": [
       "  competitorname  chocolate  fruity  caramel  peanutyalmondy  nougat  \\\n",
       "0      100 Grand          1       0        1               0       0   \n",
       "1   3 Musketeers          1       0        0               0       1   \n",
       "2       One dime          0       0        0               0       0   \n",
       "3    One quarter          0       0        0               0       0   \n",
       "4      Air Heads          0       1        0               0       0   \n",
       "\n",
       "   crispedricewafer  hard  bar  pluribus  sugarpercent  pricepercent  \\\n",
       "0                 1     0    1         0         0.732         0.860   \n",
       "1                 0     0    1         0         0.604         0.511   \n",
       "2                 0     0    0         0         0.011         0.116   \n",
       "3                 0     0    0         0         0.011         0.511   \n",
       "4                 0     0    0         0         0.906         0.511   \n",
       "\n",
       "   winpercent  \n",
       "0   66.971725  \n",
       "1   67.602936  \n",
       "2   32.261086  \n",
       "3   46.116505  \n",
       "4   52.341465  "
      ]
     },
     "execution_count": 264,
     "metadata": {},
     "output_type": "execute_result"
    }
   ],
   "source": [
    "raw_data.head()"
   ]
  },
  {
   "cell_type": "markdown",
   "metadata": {},
   "source": [
    "There might be a correlation between sugar content, price and popularity. This should be investigated before determining which ingredients/properties have the biggest impact on the popularity as they might be leading influences."
   ]
  },
  {
   "cell_type": "code",
   "execution_count": 265,
   "metadata": {},
   "outputs": [
    {
     "data": {
      "text/plain": [
       "Text(0.5, 1.0, 'Price vs. Popularity')"
      ]
     },
     "execution_count": 265,
     "metadata": {},
     "output_type": "execute_result"
    },
    {
     "data": {
      "image/png": "[encoded data removed]",
      "text/plain": [
       "<Figure size 432x288 with 1 Axes>"
      ]
     },
     "metadata": {
      "needs_background": "light"
     },
     "output_type": "display_data"
    }
   ],
   "source": [
    "#Compare price and popularity\n",
    "plt.scatter(raw_data[\"pricepercent\"],raw_data[\"winpercent\"])\n",
    "plt.xlabel(\"price percent\")\n",
    "plt.ylabel(\"win percent\")\n",
    "plt.title(\"Price vs. Popularity\")"
   ]
  },
  {
   "cell_type": "code",
   "execution_count": 266,
   "metadata": {},
   "outputs": [
    {
     "data": {
      "text/plain": [
       "PearsonRResult(statistic=0.34532540996768485, pvalue=0.0012088290261781057)"
      ]
     },
     "execution_count": 266,
     "metadata": {},
     "output_type": "execute_result"
    }
   ],
   "source": [
    "#Pearson correlation between price and popularity\n",
    "scipy.stats.pearsonr(raw_data[\"pricepercent\"],raw_data[\"winpercent\"])"
   ]
  },
  {
   "cell_type": "markdown",
   "metadata": {},
   "source": [
    "Moderate correlation between price and popularity, high confidence.  \n",
    "The plot shows high popularity for candies around the 60-70% price range which I will investigate with a LOcally Weighted Scatterplot Smoothing (LOWESS)."
   ]
  },
  {
   "cell_type": "code",
   "execution_count": 267,
   "metadata": {},
   "outputs": [
    {
     "data": {
      "text/plain": [
       "array([[1.10000000e-02, 3.71186281e+01],\n",
       "       [2.30000000e-02, 3.76882590e+01],\n",
       "       [3.40000020e-02, 3.82534557e+01],\n",
       "       [3.40000020e-02, 3.82534557e+01],\n",
       "       [5.79999980e-02, 3.96323458e+01],\n",
       "       [6.89999980e-02, 4.03309113e+01],\n",
       "       [8.10000000e-02, 4.11461228e+01],\n",
       "       [9.30000020e-02, 4.20320026e+01],\n",
       "       [1.04000000e-01, 4.29307860e+01],\n",
       "       [1.16000000e-01, 4.40475772e+01],\n",
       "       [1.16000000e-01, 4.40475772e+01],\n",
       "       [1.16000000e-01, 4.40475772e+01],\n",
       "       [1.16000000e-01, 4.40475772e+01],\n",
       "       [1.16000000e-01, 4.40475772e+01],\n",
       "       [1.16000000e-01, 4.40475772e+01],\n",
       "       [1.16000000e-01, 4.40475772e+01],\n",
       "       [1.16000000e-01, 4.40475772e+01],\n",
       "       [1.16000000e-01, 4.40475772e+01],\n",
       "       [2.20000000e-01, 6.08239699e+01],\n",
       "       [2.20000000e-01, 6.08239699e+01],\n",
       "       [2.20000000e-01, 6.08239699e+01],\n",
       "       [2.55000000e-01, 5.30844376e+01],\n",
       "       [2.66999990e-01, 5.09480826e+01],\n",
       "       [2.79000010e-01, 4.88238631e+01],\n",
       "       [2.79000010e-01, 4.88238631e+01],\n",
       "       [2.79000010e-01, 4.88238631e+01],\n",
       "       [3.12999990e-01, 4.32874336e+01],\n",
       "       [3.24999990e-01, 4.18519840e+01],\n",
       "       [3.24999990e-01, 4.18519840e+01],\n",
       "       [3.24999990e-01, 4.18519840e+01],\n",
       "       [3.24999990e-01, 4.18519840e+01],\n",
       "       [3.24999990e-01, 4.18519840e+01],\n",
       "       [3.24999990e-01, 4.18519840e+01],\n",
       "       [3.24999990e-01, 4.18519840e+01],\n",
       "       [3.24999990e-01, 4.18519840e+01],\n",
       "       [3.24999990e-01, 4.18519840e+01],\n",
       "       [3.24999990e-01, 4.18519840e+01],\n",
       "       [4.41000010e-01, 5.15674939e+01],\n",
       "       [4.53000010e-01, 5.03142061e+01],\n",
       "       [4.65000000e-01, 4.91824848e+01],\n",
       "       [4.65000000e-01, 4.91824848e+01],\n",
       "       [4.65000000e-01, 4.91824848e+01],\n",
       "       [4.65000000e-01, 4.91824848e+01],\n",
       "       [5.10999980e-01, 4.51256555e+01],\n",
       "       [5.10999980e-01, 4.51256555e+01],\n",
       "       [5.10999980e-01, 4.51256555e+01],\n",
       "       [5.10999980e-01, 4.51256555e+01],\n",
       "       [5.10999980e-01, 4.51256555e+01],\n",
       "       [5.10999980e-01, 4.51256555e+01],\n",
       "       [5.10999980e-01, 4.51256555e+01],\n",
       "       [5.10999980e-01, 4.51256555e+01],\n",
       "       [5.10999980e-01, 4.51256555e+01],\n",
       "       [5.10999980e-01, 4.51256555e+01],\n",
       "       [5.10999980e-01, 4.51256555e+01],\n",
       "       [5.10999980e-01, 4.51256555e+01],\n",
       "       [6.51000020e-01, 7.19368094e+01],\n",
       "       [6.51000020e-01, 7.19368094e+01],\n",
       "       [6.51000020e-01, 7.19368094e+01],\n",
       "       [6.51000020e-01, 7.19368094e+01],\n",
       "       [6.51000020e-01, 7.19368094e+01],\n",
       "       [6.51000020e-01, 7.19368094e+01],\n",
       "       [6.51000020e-01, 7.19368094e+01],\n",
       "       [6.51000020e-01, 7.19368094e+01],\n",
       "       [6.51000020e-01, 7.19368094e+01],\n",
       "       [7.55000000e-01, 5.96795923e+01],\n",
       "       [7.67000020e-01, 5.80630812e+01],\n",
       "       [7.67000020e-01, 5.80630812e+01],\n",
       "       [7.67000020e-01, 5.80630812e+01],\n",
       "       [7.67000020e-01, 5.80630812e+01],\n",
       "       [7.67000020e-01, 5.80630812e+01],\n",
       "       [7.67000020e-01, 5.80630812e+01],\n",
       "       [8.37000010e-01, 5.58482046e+01],\n",
       "       [8.47999990e-01, 5.53000775e+01],\n",
       "       [8.60000010e-01, 5.45838634e+01],\n",
       "       [8.60000010e-01, 5.45838634e+01],\n",
       "       [8.60000010e-01, 5.45838634e+01],\n",
       "       [8.60000010e-01, 5.45838634e+01],\n",
       "       [9.06000020e-01, 5.16028572e+01],\n",
       "       [9.17999980e-01, 5.08176191e+01],\n",
       "       [9.17999980e-01, 5.08176191e+01],\n",
       "       [9.17999980e-01, 5.08176191e+01],\n",
       "       [9.17999980e-01, 5.08176191e+01],\n",
       "       [9.64999970e-01, 4.75609343e+01],\n",
       "       [9.76000010e-01, 4.67066318e+01],\n",
       "       [9.76000010e-01, 4.67066318e+01]])"
      ]
     },
     "execution_count": 267,
     "metadata": {},
     "output_type": "execute_result"
    }
   ],
   "source": [
    "#Calculate lowess for price and popularity\n",
    "lowess = sm.nonparametric.lowess(raw_data[\"winpercent\"],raw_data[\"pricepercent\"],frac=0.3)\n",
    "lowess"
   ]
  },
  {
   "cell_type": "code",
   "execution_count": 268,
   "metadata": {},
   "outputs": [
    {
     "data": {
      "image/png": "[encoded data removed]",
      "text/plain": [
       "<Figure size 576x360 with 1 Axes>"
      ]
     },
     "metadata": {},
     "output_type": "display_data"
    }
   ],
   "source": [
    "#Order values for correct plotting\n",
    "order = np.argsort(lowess[:,0])\n",
    "x_smooth = lowess[order,0]\n",
    "y_smooth = lowess[order,1]\n",
    "\n",
    "#Create subplots to combine scatter and lowess\n",
    "fig, ax = plt.subplots(figsize=(8, 5),facecolor=\"white\")\n",
    "ax.scatter(raw_data[\"pricepercent\"],raw_data[\"winpercent\"],alpha = 0.5, edgecolor = \"k\", label = \"data\")\n",
    "ax.plot(x_smooth,y_smooth,color=\"crimson\",linewidth=2,label=\"LOWESS\")\n",
    "\n",
    "#Additional information and styling\n",
    "ax.set_xlabel(\"price percent\")\n",
    "ax.set_ylabel(\"win percent\")\n",
    "ax.set_title(\"Price vs. Popularity with LOWESS trend\")\n",
    "ax.legend()\n",
    "fig.tight_layout()"
   ]
  },
  {
   "cell_type": "markdown",
   "metadata": {},
   "source": [
    "Candy around 65% price point seems to be especially popular. This can be used as an indicator for pricing of the new candy type, however the (unknown) candy brand could be an additional factor influencing price and popularity."
   ]
  },
  {
   "cell_type": "code",
   "execution_count": 269,
   "metadata": {},
   "outputs": [
    {
     "data": {
      "text/plain": [
       "Text(0.5, 1.0, 'Sugar vs. Popularity')"
      ]
     },
     "execution_count": 269,
     "metadata": {},
     "output_type": "execute_result"
    },
    {
     "data": {
      "image/png": "[encoded data removed]",
      "text/plain": [
       "<Figure size 432x288 with 1 Axes>"
      ]
     },
     "metadata": {
      "needs_background": "light"
     },
     "output_type": "display_data"
    }
   ],
   "source": [
    "#Compare sugar content and popularity\n",
    "plt.scatter(raw_data[\"sugarpercent\"],raw_data[\"winpercent\"])\n",
    "plt.xlabel(\"sugar percent\")\n",
    "plt.ylabel(\"win percent\")\n",
    "plt.title(\"Sugar vs. Popularity\")"
   ]
  },
  {
   "cell_type": "code",
   "execution_count": 270,
   "metadata": {},
   "outputs": [
    {
     "data": {
      "text/plain": [
       "PearsonRResult(statistic=0.2291506571280065, pvalue=0.034897896761698334)"
      ]
     },
     "execution_count": 270,
     "metadata": {},
     "output_type": "execute_result"
    }
   ],
   "source": [
    "#Pearson correlation for sugar and popularity\n",
    "scipy.stats.pearsonr(raw_data[\"sugarpercent\"],raw_data[\"winpercent\"])"
   ]
  },
  {
   "cell_type": "markdown",
   "metadata": {},
   "source": [
    "Low to moderate correlation between sugar and popularity, moderate to high confidence."
   ]
  },
  {
   "cell_type": "code",
   "execution_count": 271,
   "metadata": {},
   "outputs": [
    {
     "data": {
      "text/plain": [
       "array([[1.10000000e-02, 4.18752328e+01],\n",
       "       [1.10000000e-02, 4.18752328e+01],\n",
       "       [3.40000020e-02, 4.22302778e+01],\n",
       "       [4.60000000e-02, 4.23980677e+01],\n",
       "       [4.60000000e-02, 4.23980677e+01],\n",
       "       [6.89999980e-02, 4.26814589e+01],\n",
       "       [6.89999980e-02, 4.26814589e+01],\n",
       "       [9.30000020e-02, 4.29435582e+01],\n",
       "       [9.30000020e-02, 4.29435582e+01],\n",
       "       [9.30000020e-02, 4.29435582e+01],\n",
       "       [1.27000000e-01, 4.31442231e+01],\n",
       "       [1.27000000e-01, 4.31442231e+01],\n",
       "       [1.50999990e-01, 4.28872923e+01],\n",
       "       [1.62000000e-01, 4.28689926e+01],\n",
       "       [1.73999990e-01, 4.28423129e+01],\n",
       "       [1.86000000e-01, 4.28589839e+01],\n",
       "       [1.97000000e-01, 4.29065133e+01],\n",
       "       [1.97000000e-01, 4.29065133e+01],\n",
       "       [2.20000000e-01, 4.36970188e+01],\n",
       "       [2.20000000e-01, 4.36970188e+01],\n",
       "       [2.20000000e-01, 4.36970188e+01],\n",
       "       [2.20000000e-01, 4.36970188e+01],\n",
       "       [2.66999990e-01, 4.64137860e+01],\n",
       "       [2.66999990e-01, 4.64137860e+01],\n",
       "       [2.66999990e-01, 4.64137860e+01],\n",
       "       [3.01999990e-01, 4.97851543e+01],\n",
       "       [3.12999990e-01, 5.05154331e+01],\n",
       "       [3.12999990e-01, 5.05154331e+01],\n",
       "       [3.12999990e-01, 5.05154331e+01],\n",
       "       [3.12999990e-01, 5.05154331e+01],\n",
       "       [3.12999990e-01, 5.05154331e+01],\n",
       "       [3.12999990e-01, 5.05154331e+01],\n",
       "       [3.12999990e-01, 5.05154331e+01],\n",
       "       [3.12999990e-01, 5.05154331e+01],\n",
       "       [4.05999990e-01, 5.17449689e+01],\n",
       "       [4.18000010e-01, 5.16472815e+01],\n",
       "       [4.30000010e-01, 5.18862469e+01],\n",
       "       [4.30000010e-01, 5.18862469e+01],\n",
       "       [4.30000010e-01, 5.18862469e+01],\n",
       "       [4.65000000e-01, 5.26499317e+01],\n",
       "       [4.65000000e-01, 5.26499317e+01],\n",
       "       [4.65000000e-01, 5.26499317e+01],\n",
       "       [4.65000000e-01, 5.26499317e+01],\n",
       "       [4.65000000e-01, 5.26499317e+01],\n",
       "       [4.65000000e-01, 5.26499317e+01],\n",
       "       [4.65000000e-01, 5.26499317e+01],\n",
       "       [5.46000000e-01, 5.42100426e+01],\n",
       "       [5.46000000e-01, 5.42100426e+01],\n",
       "       [5.69000010e-01, 5.49928791e+01],\n",
       "       [5.80999970e-01, 5.52016557e+01],\n",
       "       [5.92999990e-01, 5.57381774e+01],\n",
       "       [6.03999970e-01, 5.44644280e+01],\n",
       "       [6.03999970e-01, 5.44644280e+01],\n",
       "       [6.03999970e-01, 5.44644280e+01],\n",
       "       [6.03999970e-01, 5.44644280e+01],\n",
       "       [6.03999970e-01, 5.44644280e+01],\n",
       "       [6.03999970e-01, 5.44644280e+01],\n",
       "       [6.03999970e-01, 5.44644280e+01],\n",
       "       [6.03999970e-01, 5.44644280e+01],\n",
       "       [6.03999970e-01, 5.44644280e+01],\n",
       "       [6.03999970e-01, 5.44644280e+01],\n",
       "       [7.20000030e-01, 4.68246694e+01],\n",
       "       [7.31999990e-01, 4.62289790e+01],\n",
       "       [7.31999990e-01, 4.62289790e+01],\n",
       "       [7.31999990e-01, 4.62289790e+01],\n",
       "       [7.31999990e-01, 4.62289790e+01],\n",
       "       [7.31999990e-01, 4.62289790e+01],\n",
       "       [7.31999990e-01, 4.62289790e+01],\n",
       "       [7.31999990e-01, 4.62289790e+01],\n",
       "       [7.31999990e-01, 4.62289790e+01],\n",
       "       [8.24999990e-01, 5.06965618e+01],\n",
       "       [8.24999990e-01, 5.06965618e+01],\n",
       "       [8.47999990e-01, 5.17197986e+01],\n",
       "       [8.60000010e-01, 5.22836105e+01],\n",
       "       [8.71999980e-01, 5.28464103e+01],\n",
       "       [8.71999980e-01, 5.28464103e+01],\n",
       "       [8.71999980e-01, 5.28464103e+01],\n",
       "       [9.06000020e-01, 5.43682689e+01],\n",
       "       [9.06000020e-01, 5.43682689e+01],\n",
       "       [9.06000020e-01, 5.43682689e+01],\n",
       "       [9.40999980e-01, 5.58068822e+01],\n",
       "       [9.40999980e-01, 5.58068822e+01],\n",
       "       [9.64999970e-01, 5.67544949e+01],\n",
       "       [9.64999970e-01, 5.67544949e+01],\n",
       "       [9.87999980e-01, 5.76580784e+01]])"
      ]
     },
     "execution_count": 271,
     "metadata": {},
     "output_type": "execute_result"
    }
   ],
   "source": [
    "lowess_sugar = sm.nonparametric.lowess(raw_data[\"winpercent\"],raw_data[\"sugarpercent\"],frac=0.3)\n",
    "lowess_sugar"
   ]
  },
  {
   "cell_type": "code",
   "execution_count": 272,
   "metadata": {},
   "outputs": [
    {
     "data": {
      "image/png": "[encoded data removed]",
      "text/plain": [
       "<Figure size 576x360 with 1 Axes>"
      ]
     },
     "metadata": {},
     "output_type": "display_data"
    }
   ],
   "source": [
    "#Order values for correct plotting\n",
    "order = np.argsort(lowess_sugar[:,0])\n",
    "x_smooth = lowess_sugar[order,0]\n",
    "y_smooth = lowess_sugar[order,1]\n",
    "\n",
    "#Create subplots to combine scatter and lowess\n",
    "fig, ax = plt.subplots(figsize=(8, 5),facecolor=\"white\")\n",
    "ax.scatter(raw_data[\"sugarpercent\"],raw_data[\"winpercent\"],alpha = 0.5, edgecolor = \"k\", label = \"data\")\n",
    "ax.plot(x_smooth,y_smooth,color=\"crimson\",linewidth=2,label=\"LOWESS\")\n",
    "\n",
    "#Additional information and styling\n",
    "ax.set_xlabel(\"sugar percent\")\n",
    "ax.set_ylabel(\"win percent\")\n",
    "ax.set_title(\"Sugar vs. Popularity with LOWESS trend\")\n",
    "ax.legend()\n",
    "fig.tight_layout()"
   ]
  },
  {
   "cell_type": "markdown",
   "metadata": {},
   "source": [
    "Higher sugar content apparently does not hurt; no apparent sweet spot for sugar content."
   ]
  },
  {
   "cell_type": "markdown",
   "metadata": {},
   "source": [
    "Check now for correlation between sugar and price:"
   ]
  },
  {
   "cell_type": "code",
   "execution_count": 273,
   "metadata": {},
   "outputs": [
    {
     "data": {
      "text/plain": [
       "Text(0.5, 1.0, 'Sugar vs. Popularity')"
      ]
     },
     "execution_count": 273,
     "metadata": {},
     "output_type": "execute_result"
    },
    {
     "data": {
      "image/png": "[encoded data removed]",
      "text/plain": [
       "<Figure size 432x288 with 1 Axes>"
      ]
     },
     "metadata": {
      "needs_background": "light"
     },
     "output_type": "display_data"
    }
   ],
   "source": [
    "#Compare suagr content and price\n",
    "plt.scatter(raw_data[\"sugarpercent\"],raw_data[\"pricepercent\"])\n",
    "plt.xlabel(\"sugar percent\")\n",
    "plt.ylabel(\"win percent\")\n",
    "plt.title(\"Sugar vs. Popularity\")"
   ]
  },
  {
   "cell_type": "code",
   "execution_count": 274,
   "metadata": {},
   "outputs": [
    {
     "data": {
      "text/plain": [
       "PearsonRResult(statistic=0.32970638758895476, pvalue=0.0020604027524857094)"
      ]
     },
     "execution_count": 274,
     "metadata": {},
     "output_type": "execute_result"
    }
   ],
   "source": [
    "scipy.stats.pearsonr(raw_data[\"sugarpercent\"],raw_data[\"pricepercent\"])"
   ]
  },
  {
   "cell_type": "markdown",
   "metadata": {},
   "source": [
    "Moderate correlation between sugar and price, high significance."
   ]
  },
  {
   "cell_type": "code",
   "execution_count": 275,
   "metadata": {},
   "outputs": [
    {
     "name": "stdout",
     "output_type": "stream",
     "text": [
      "<class 'pandas.core.frame.DataFrame'>\n",
      "RangeIndex: 85 entries, 0 to 84\n",
      "Data columns (total 3 columns):\n",
      " #   Column        Non-Null Count  Dtype  \n",
      "---  ------        --------------  -----  \n",
      " 0   pricepercent  85 non-null     float64\n",
      " 1   sugarpercent  85 non-null     float64\n",
      " 2   winpercent    85 non-null     float64\n",
      "dtypes: float64(3)\n",
      "memory usage: 2.1 KB\n"
     ]
    }
   ],
   "source": [
    "#Prepare metric data for further correlation analysis\n",
    "metric_vars = raw_data[[\"pricepercent\",\"sugarpercent\",\"winpercent\"]].copy()\n",
    "metric_vars.info()"
   ]
  },
  {
   "cell_type": "code",
   "execution_count": 276,
   "metadata": {},
   "outputs": [
    {
     "data": {
      "text/html": [
       "<div>\n",
       "<style scoped>\n",
       "    .dataframe tbody tr th:only-of-type {\n",
       "        vertical-align: middle;\n",
       "    }\n",
       "\n",
       "    .dataframe tbody tr th {\n",
       "        vertical-align: top;\n",
       "    }\n",
       "\n",
       "    .dataframe thead th {\n",
       "        text-align: right;\n",
       "    }\n",
       "</style>\n",
       "<table border=\"1\" class=\"dataframe\">\n",
       "  <thead>\n",
       "    <tr style=\"text-align: right;\">\n",
       "      <th></th>\n",
       "      <th>n</th>\n",
       "      <th>r</th>\n",
       "      <th>CI95%</th>\n",
       "      <th>p-val</th>\n",
       "    </tr>\n",
       "  </thead>\n",
       "  <tbody>\n",
       "    <tr>\n",
       "      <th>pearson</th>\n",
       "      <td>85</td>\n",
       "      <td>0.293563</td>\n",
       "      <td>[0.08, 0.48]</td>\n",
       "      <td>0.006724</td>\n",
       "    </tr>\n",
       "  </tbody>\n",
       "</table>\n",
       "</div>"
      ],
      "text/plain": [
       "          n         r         CI95%     p-val\n",
       "pearson  85  0.293563  [0.08, 0.48]  0.006724"
      ]
     },
     "execution_count": 276,
     "metadata": {},
     "output_type": "execute_result"
    }
   ],
   "source": [
    "#Pearson correlation of price and popularity after removing effect of covariate sugar\n",
    "pcorr_price = pingouin.partial_corr(data = metric_vars, x = \"pricepercent\", y = \"winpercent\", covar = \"sugarpercent\", method = \"pearson\")\n",
    "pcorr_price"
   ]
  },
  {
   "cell_type": "code",
   "execution_count": 277,
   "metadata": {},
   "outputs": [
    {
     "data": {
      "text/html": [
       "<div>\n",
       "<style scoped>\n",
       "    .dataframe tbody tr th:only-of-type {\n",
       "        vertical-align: middle;\n",
       "    }\n",
       "\n",
       "    .dataframe tbody tr th {\n",
       "        vertical-align: top;\n",
       "    }\n",
       "\n",
       "    .dataframe thead th {\n",
       "        text-align: right;\n",
       "    }\n",
       "</style>\n",
       "<table border=\"1\" class=\"dataframe\">\n",
       "  <thead>\n",
       "    <tr style=\"text-align: right;\">\n",
       "      <th></th>\n",
       "      <th>n</th>\n",
       "      <th>r</th>\n",
       "      <th>CI95%</th>\n",
       "      <th>p-val</th>\n",
       "    </tr>\n",
       "  </thead>\n",
       "  <tbody>\n",
       "    <tr>\n",
       "      <th>pearson</th>\n",
       "      <td>85</td>\n",
       "      <td>0.130128</td>\n",
       "      <td>[-0.09, 0.34]</td>\n",
       "      <td>0.238079</td>\n",
       "    </tr>\n",
       "  </tbody>\n",
       "</table>\n",
       "</div>"
      ],
      "text/plain": [
       "          n         r          CI95%     p-val\n",
       "pearson  85  0.130128  [-0.09, 0.34]  0.238079"
      ]
     },
     "execution_count": 277,
     "metadata": {},
     "output_type": "execute_result"
    }
   ],
   "source": [
    "#Pearson correlation of sugar and popularity after removing effect of covariate price\n",
    "pcorr_sugar = pingouin.partial_corr(data = metric_vars, x = \"sugarpercent\", y = \"winpercent\", covar = \"pricepercent\", method = \"pearson\")\n",
    "pcorr_sugar"
   ]
  },
  {
   "cell_type": "markdown",
   "metadata": {},
   "source": [
    "Price apparently influences buying choice more than the sugar content (pcorr_sugar significantly lower than non-partial correlation). Initial sugar correlation seems to be confounded by the price."
   ]
  },
  {
   "cell_type": "code",
   "execution_count": 278,
   "metadata": {},
   "outputs": [
    {
     "name": "stdout",
     "output_type": "stream",
     "text": [
      "chocolate          r =  0.571   p =  0.0000\n",
      "fruity             r = -0.274   p =  0.0116\n",
      "caramel            r =  0.138   p =  0.2094\n",
      "peanutyalmondy     r =  0.335   p =  0.0018\n",
      "nougat             r =  0.158   p =  0.1513\n",
      "crispedricewafer   r =  0.238   p =  0.0290\n",
      "hard               r = -0.248   p =  0.0227\n",
      "bar                r =  0.313   p =  0.0038\n",
      "pluribus           r = -0.187   p =  0.0884\n"
     ]
    }
   ],
   "source": [
    "#Prepare binary candy properties for correlation analysis\n",
    "candy_properties = [\"chocolate\",\"fruity\",\"caramel\",\"peanutyalmondy\",\"nougat\",\"crispedricewafer\",\"hard\",\"bar\",\"pluribus\"]\n",
    "\n",
    "#Collect p-values for False Discovery Rate (FDR) correction later\n",
    "p_vals = []\n",
    "\n",
    "#Calculate pearson/point-biserial correlation for all binary candy properties after removing price effects\n",
    "for property in candy_properties:\n",
    "    pcorr = pingouin.partial_corr(data = raw_data, x = property, y = \"winpercent\", covar = \"pricepercent\", method = \"pearson\") #pearson is the same as r_pb in this case\n",
    "\n",
    "    r_val = pcorr[\"r\"].iloc[0]\n",
    "    p_val = pcorr[\"p-val\"].iloc[0]\n",
    "    p_vals.append(p_val)\n",
    "\n",
    "    print(f\"{property:17s}  r = {r_val: .3f}   p = {p_val: .4f}\")\n"
   ]
  },
  {
   "cell_type": "code",
   "execution_count": 279,
   "metadata": {},
   "outputs": [
    {
     "data": {
      "text/plain": [
       "(array([ True,  True, False,  True, False,  True,  True,  True, False]),\n",
       " array([1.31780044e-07, 2.61851384e-02, 2.09386024e-01, 8.14509466e-03,\n",
       "        1.70242574e-01, 4.34803021e-02, 4.09329353e-02, 1.13563738e-02,\n",
       "        1.13719776e-01]))"
      ]
     },
     "execution_count": 279,
     "metadata": {},
     "output_type": "execute_result"
    }
   ],
   "source": [
    "#Benjamini-Hochberg (BH) correction for False Discovery Rate (FDR)\n",
    "pingouin.multicomp(p_vals, method = \"fdr_bh\")"
   ]
  },
  {
   "cell_type": "code",
   "execution_count": 280,
   "metadata": {},
   "outputs": [
    {
     "data": {
      "text/plain": [
       "(array([ True, False, False,  True, False, False, False,  True, False]),\n",
       " array([3.72801560e-07, 7.40769252e-02, 5.92346415e-01, 2.30422142e-02,\n",
       "        4.81610838e-01, 1.23004394e-01, 1.15797974e-01, 3.21268209e-02,\n",
       "        3.21709637e-01]))"
      ]
     },
     "execution_count": 280,
     "metadata": {},
     "output_type": "execute_result"
    }
   ],
   "source": [
    "#Benjamini-Yekutieli (BY) correction for False Discovery Rate (FDR)\n",
    "pingouin.multicomp(p_vals, method = \"fdr_by\")"
   ]
  },
  {
   "cell_type": "markdown",
   "metadata": {},
   "source": [
    "Properties with a positive correlation to popularity (high confidence): chocolate, peanuty-almondy, bar  \n",
    "Properties with a positive correlation to popularity (moderate confidence): crisped rice wafer   \n",
    "Properties with a negative correlation to popularity (moderate confidence): fruity, hard   \n",
    "Unclear/not enough data (not siginificat after using Benjamini Hochberg FDR correction): nougat, caramel, pluribus\n",
    "\n"
   ]
  },
  {
   "cell_type": "code",
   "execution_count": 281,
   "metadata": {},
   "outputs": [
    {
     "data": {
      "text/html": [
       "<div>\n",
       "<style scoped>\n",
       "    .dataframe tbody tr th:only-of-type {\n",
       "        vertical-align: middle;\n",
       "    }\n",
       "\n",
       "    .dataframe tbody tr th {\n",
       "        vertical-align: top;\n",
       "    }\n",
       "\n",
       "    .dataframe thead th {\n",
       "        text-align: right;\n",
       "    }\n",
       "</style>\n",
       "<table border=\"1\" class=\"dataframe\">\n",
       "  <thead>\n",
       "    <tr style=\"text-align: right;\">\n",
       "      <th></th>\n",
       "      <th>competitorname</th>\n",
       "      <th>chocolate</th>\n",
       "      <th>fruity</th>\n",
       "      <th>caramel</th>\n",
       "      <th>peanutyalmondy</th>\n",
       "      <th>nougat</th>\n",
       "      <th>crispedricewafer</th>\n",
       "      <th>hard</th>\n",
       "      <th>bar</th>\n",
       "      <th>pluribus</th>\n",
       "      <th>sugarpercent</th>\n",
       "      <th>pricepercent</th>\n",
       "      <th>winpercent</th>\n",
       "    </tr>\n",
       "  </thead>\n",
       "  <tbody>\n",
       "    <tr>\n",
       "      <th>5</th>\n",
       "      <td>Almond Joy</td>\n",
       "      <td>1</td>\n",
       "      <td>0</td>\n",
       "      <td>0</td>\n",
       "      <td>1</td>\n",
       "      <td>0</td>\n",
       "      <td>0</td>\n",
       "      <td>0</td>\n",
       "      <td>1</td>\n",
       "      <td>0</td>\n",
       "      <td>0.465</td>\n",
       "      <td>0.767</td>\n",
       "      <td>50.347546</td>\n",
       "    </tr>\n",
       "    <tr>\n",
       "      <th>40</th>\n",
       "      <td>Mr Good Bar</td>\n",
       "      <td>1</td>\n",
       "      <td>0</td>\n",
       "      <td>0</td>\n",
       "      <td>1</td>\n",
       "      <td>0</td>\n",
       "      <td>0</td>\n",
       "      <td>0</td>\n",
       "      <td>1</td>\n",
       "      <td>0</td>\n",
       "      <td>0.313</td>\n",
       "      <td>0.918</td>\n",
       "      <td>54.526451</td>\n",
       "    </tr>\n",
       "    <tr>\n",
       "      <th>42</th>\n",
       "      <td>Nestle Butterfinger</td>\n",
       "      <td>1</td>\n",
       "      <td>0</td>\n",
       "      <td>0</td>\n",
       "      <td>1</td>\n",
       "      <td>0</td>\n",
       "      <td>0</td>\n",
       "      <td>0</td>\n",
       "      <td>1</td>\n",
       "      <td>0</td>\n",
       "      <td>0.604</td>\n",
       "      <td>0.767</td>\n",
       "      <td>70.735641</td>\n",
       "    </tr>\n",
       "  </tbody>\n",
       "</table>\n",
       "</div>"
      ],
      "text/plain": [
       "         competitorname  chocolate  fruity  caramel  peanutyalmondy  nougat  \\\n",
       "5            Almond Joy          1       0        0               1       0   \n",
       "40          Mr Good Bar          1       0        0               1       0   \n",
       "42  Nestle Butterfinger          1       0        0               1       0   \n",
       "\n",
       "    crispedricewafer  hard  bar  pluribus  sugarpercent  pricepercent  \\\n",
       "5                  0     0    1         0         0.465         0.767   \n",
       "40                 0     0    1         0         0.313         0.918   \n",
       "42                 0     0    1         0         0.604         0.767   \n",
       "\n",
       "    winpercent  \n",
       "5    50.347546  \n",
       "40   54.526451  \n",
       "42   70.735641  "
      ]
     },
     "execution_count": 281,
     "metadata": {},
     "output_type": "execute_result"
    }
   ],
   "source": [
    "#Check which candies already have exactly the relevant properties\n",
    "required_properties = ['chocolate','peanutyalmondy','bar']\n",
    "other_properties = list(set(candy_properties)-set(required_properties))\n",
    "\n",
    "mask = (\n",
    "    (raw_data['chocolate'] == 1) &\n",
    "    (raw_data['peanutyalmondy'] == 1) &\n",
    "    (raw_data['bar'] == 1) \n",
    ")\n",
    "\n",
    "for property in required_properties:\n",
    "    mask &= (raw_data[property] == 1)\n",
    "\n",
    "for property in other_properties:\n",
    "    mask &= (raw_data[property] == 0)\n",
    "\n",
    "raw_data.loc[mask]"
   ]
  },
  {
   "cell_type": "code",
   "execution_count": 282,
   "metadata": {},
   "outputs": [
    {
     "data": {
      "text/plain": [
       "58.53654600000001"
      ]
     },
     "execution_count": 282,
     "metadata": {},
     "output_type": "execute_result"
    }
   ],
   "source": [
    "#Average Popularity for candies with these properties\n",
    "raw_data.loc[mask,'winpercent'].mean()"
   ]
  },
  {
   "cell_type": "code",
   "execution_count": 283,
   "metadata": {},
   "outputs": [
    {
     "data": {
      "text/html": [
       "<div>\n",
       "<style scoped>\n",
       "    .dataframe tbody tr th:only-of-type {\n",
       "        vertical-align: middle;\n",
       "    }\n",
       "\n",
       "    .dataframe tbody tr th {\n",
       "        vertical-align: top;\n",
       "    }\n",
       "\n",
       "    .dataframe thead th {\n",
       "        text-align: right;\n",
       "    }\n",
       "</style>\n",
       "<table border=\"1\" class=\"dataframe\">\n",
       "  <thead>\n",
       "    <tr style=\"text-align: right;\">\n",
       "      <th></th>\n",
       "      <th>competitorname</th>\n",
       "      <th>chocolate</th>\n",
       "      <th>fruity</th>\n",
       "      <th>caramel</th>\n",
       "      <th>peanutyalmondy</th>\n",
       "      <th>nougat</th>\n",
       "      <th>crispedricewafer</th>\n",
       "      <th>hard</th>\n",
       "      <th>bar</th>\n",
       "      <th>pluribus</th>\n",
       "      <th>sugarpercent</th>\n",
       "      <th>pricepercent</th>\n",
       "      <th>winpercent</th>\n",
       "    </tr>\n",
       "  </thead>\n",
       "  <tbody>\n",
       "    <tr>\n",
       "      <th>52</th>\n",
       "      <td>Reese's Peanut Butter cup</td>\n",
       "      <td>1</td>\n",
       "      <td>0</td>\n",
       "      <td>0</td>\n",
       "      <td>1</td>\n",
       "      <td>0</td>\n",
       "      <td>0</td>\n",
       "      <td>0</td>\n",
       "      <td>0</td>\n",
       "      <td>0</td>\n",
       "      <td>0.720</td>\n",
       "      <td>0.651</td>\n",
       "      <td>84.180290</td>\n",
       "    </tr>\n",
       "    <tr>\n",
       "      <th>51</th>\n",
       "      <td>Reese's Miniatures</td>\n",
       "      <td>1</td>\n",
       "      <td>0</td>\n",
       "      <td>0</td>\n",
       "      <td>1</td>\n",
       "      <td>0</td>\n",
       "      <td>0</td>\n",
       "      <td>0</td>\n",
       "      <td>0</td>\n",
       "      <td>0</td>\n",
       "      <td>0.034</td>\n",
       "      <td>0.279</td>\n",
       "      <td>81.866257</td>\n",
       "    </tr>\n",
       "    <tr>\n",
       "      <th>79</th>\n",
       "      <td>Twix</td>\n",
       "      <td>1</td>\n",
       "      <td>0</td>\n",
       "      <td>1</td>\n",
       "      <td>0</td>\n",
       "      <td>0</td>\n",
       "      <td>1</td>\n",
       "      <td>0</td>\n",
       "      <td>1</td>\n",
       "      <td>0</td>\n",
       "      <td>0.546</td>\n",
       "      <td>0.906</td>\n",
       "      <td>81.642914</td>\n",
       "    </tr>\n",
       "    <tr>\n",
       "      <th>28</th>\n",
       "      <td>Kit Kat</td>\n",
       "      <td>1</td>\n",
       "      <td>0</td>\n",
       "      <td>0</td>\n",
       "      <td>0</td>\n",
       "      <td>0</td>\n",
       "      <td>1</td>\n",
       "      <td>0</td>\n",
       "      <td>1</td>\n",
       "      <td>0</td>\n",
       "      <td>0.313</td>\n",
       "      <td>0.511</td>\n",
       "      <td>76.768600</td>\n",
       "    </tr>\n",
       "    <tr>\n",
       "      <th>64</th>\n",
       "      <td>Snickers</td>\n",
       "      <td>1</td>\n",
       "      <td>0</td>\n",
       "      <td>1</td>\n",
       "      <td>1</td>\n",
       "      <td>1</td>\n",
       "      <td>0</td>\n",
       "      <td>0</td>\n",
       "      <td>1</td>\n",
       "      <td>0</td>\n",
       "      <td>0.546</td>\n",
       "      <td>0.651</td>\n",
       "      <td>76.673782</td>\n",
       "    </tr>\n",
       "  </tbody>\n",
       "</table>\n",
       "</div>"
      ],
      "text/plain": [
       "               competitorname  chocolate  fruity  caramel  peanutyalmondy  \\\n",
       "52  Reese's Peanut Butter cup          1       0        0               1   \n",
       "51         Reese's Miniatures          1       0        0               1   \n",
       "79                       Twix          1       0        1               0   \n",
       "28                    Kit Kat          1       0        0               0   \n",
       "64                   Snickers          1       0        1               1   \n",
       "\n",
       "    nougat  crispedricewafer  hard  bar  pluribus  sugarpercent  pricepercent  \\\n",
       "52       0                 0     0    0         0         0.720         0.651   \n",
       "51       0                 0     0    0         0         0.034         0.279   \n",
       "79       0                 1     0    1         0         0.546         0.906   \n",
       "28       0                 1     0    1         0         0.313         0.511   \n",
       "64       1                 0     0    1         0         0.546         0.651   \n",
       "\n",
       "    winpercent  \n",
       "52   84.180290  \n",
       "51   81.866257  \n",
       "79   81.642914  \n",
       "28   76.768600  \n",
       "64   76.673782  "
      ]
     },
     "execution_count": 283,
     "metadata": {},
     "output_type": "execute_result"
    }
   ],
   "source": [
    "#Show top 5 performing candies\n",
    "raw_data.sort_values('winpercent',ascending=False).head()"
   ]
  },
  {
   "cell_type": "markdown",
   "metadata": {},
   "source": [
    "Candy containing only chocolate, peanutyamondy and bar properties show slightly higher popularity than the average candy on the dataset. None of them are in the Top 5; the first one appears on position 10 in the ranking.   \n",
    "Potential reasons for comparatively bad performance:   \n",
    "\n",
    "1) Higher pricing. Check while designing new candy if 65% pricepercent is possible for the required properties. High performing candies are all wellknown brand candies. This is not represented in the dataset; a strong branding like this might not be achievable for a store brand. \n",
    "2) Caramel and nougat were in less than 10% of samples and could play a bigger role than the data suggests. They show up in 2 of the Top5 candies. \n",
    "3) Dataset does not account for texture of the product (except for 'hard' property). Could be testedd with a hedonic test during production."
   ]
  },
  {
   "cell_type": "code",
   "execution_count": 284,
   "metadata": {},
   "outputs": [
    {
     "data": {
      "text/html": [
       "<div>\n",
       "<style scoped>\n",
       "    .dataframe tbody tr th:only-of-type {\n",
       "        vertical-align: middle;\n",
       "    }\n",
       "\n",
       "    .dataframe tbody tr th {\n",
       "        vertical-align: top;\n",
       "    }\n",
       "\n",
       "    .dataframe thead th {\n",
       "        text-align: right;\n",
       "    }\n",
       "</style>\n",
       "<table border=\"1\" class=\"dataframe\">\n",
       "  <thead>\n",
       "    <tr style=\"text-align: right;\">\n",
       "      <th></th>\n",
       "      <th>competitorname</th>\n",
       "      <th>chocolate</th>\n",
       "      <th>fruity</th>\n",
       "      <th>caramel</th>\n",
       "      <th>peanutyalmondy</th>\n",
       "      <th>nougat</th>\n",
       "      <th>crispedricewafer</th>\n",
       "      <th>hard</th>\n",
       "      <th>bar</th>\n",
       "      <th>pluribus</th>\n",
       "      <th>sugarpercent</th>\n",
       "      <th>pricepercent</th>\n",
       "      <th>winpercent</th>\n",
       "    </tr>\n",
       "  </thead>\n",
       "  <tbody>\n",
       "    <tr>\n",
       "      <th>65</th>\n",
       "      <td>Snickers Crisper</td>\n",
       "      <td>1</td>\n",
       "      <td>0</td>\n",
       "      <td>1</td>\n",
       "      <td>1</td>\n",
       "      <td>0</td>\n",
       "      <td>1</td>\n",
       "      <td>0</td>\n",
       "      <td>1</td>\n",
       "      <td>0</td>\n",
       "      <td>0.604</td>\n",
       "      <td>0.651</td>\n",
       "      <td>59.529251</td>\n",
       "    </tr>\n",
       "  </tbody>\n",
       "</table>\n",
       "</div>"
      ],
      "text/plain": [
       "      competitorname  chocolate  fruity  caramel  peanutyalmondy  nougat  \\\n",
       "65  Snickers Crisper          1       0        1               1       0   \n",
       "\n",
       "    crispedricewafer  hard  bar  pluribus  sugarpercent  pricepercent  \\\n",
       "65                 1     0    1         0         0.604         0.651   \n",
       "\n",
       "    winpercent  \n",
       "65   59.529251  "
      ]
     },
     "execution_count": 284,
     "metadata": {},
     "output_type": "execute_result"
    }
   ],
   "source": [
    "#Check dataset for candies that additionally contain crispiedricewafer\n",
    "raw_data.loc[(raw_data['chocolate']==1) & (raw_data['peanutyalmondy']==1) & (raw_data['bar']==1) & (raw_data['crispedricewafer']==1)]"
   ]
  },
  {
   "cell_type": "markdown",
   "metadata": {},
   "source": [
    "Only one product has all four properties with positive correlation: chocolate, peanutyamondy, crispedricewafer and bar. Snickers Crisper additionally contains caramel. A product with only the 4 positively correlated properties is not part of the current product lineup and might be a gap in the market to explore. "
   ]
  },
  {
   "cell_type": "markdown",
   "metadata": {},
   "source": [
    "To have a sanity check for the current results and to account for correlations between properties,  an Elastic Net analysis is performed:"
   ]
  },
  {
   "cell_type": "code",
   "execution_count": 285,
   "metadata": {},
   "outputs": [
    {
     "data": {
      "text/html": [
       "<div>\n",
       "<style scoped>\n",
       "    .dataframe tbody tr th:only-of-type {\n",
       "        vertical-align: middle;\n",
       "    }\n",
       "\n",
       "    .dataframe tbody tr th {\n",
       "        vertical-align: top;\n",
       "    }\n",
       "\n",
       "    .dataframe thead th {\n",
       "        text-align: right;\n",
       "    }\n",
       "</style>\n",
       "<table border=\"1\" class=\"dataframe\">\n",
       "  <thead>\n",
       "    <tr style=\"text-align: right;\">\n",
       "      <th></th>\n",
       "      <th>chocolate</th>\n",
       "      <th>fruity</th>\n",
       "      <th>caramel</th>\n",
       "      <th>peanutyalmondy</th>\n",
       "      <th>nougat</th>\n",
       "      <th>crispedricewafer</th>\n",
       "      <th>hard</th>\n",
       "      <th>bar</th>\n",
       "      <th>pluribus</th>\n",
       "      <th>sugarpercent</th>\n",
       "      <th>pricepercent</th>\n",
       "      <th>winpercent</th>\n",
       "    </tr>\n",
       "  </thead>\n",
       "  <tbody>\n",
       "    <tr>\n",
       "      <th>count</th>\n",
       "      <td>85.000000</td>\n",
       "      <td>85.000000</td>\n",
       "      <td>85.000000</td>\n",
       "      <td>85.000000</td>\n",
       "      <td>85.000000</td>\n",
       "      <td>85.000000</td>\n",
       "      <td>85.000000</td>\n",
       "      <td>85.000000</td>\n",
       "      <td>85.000000</td>\n",
       "      <td>85.000000</td>\n",
       "      <td>85.000000</td>\n",
       "      <td>85.000000</td>\n",
       "    </tr>\n",
       "    <tr>\n",
       "      <th>mean</th>\n",
       "      <td>0.435294</td>\n",
       "      <td>0.447059</td>\n",
       "      <td>0.164706</td>\n",
       "      <td>0.164706</td>\n",
       "      <td>0.082353</td>\n",
       "      <td>0.082353</td>\n",
       "      <td>0.176471</td>\n",
       "      <td>0.247059</td>\n",
       "      <td>0.517647</td>\n",
       "      <td>0.478647</td>\n",
       "      <td>0.468882</td>\n",
       "      <td>0.503168</td>\n",
       "    </tr>\n",
       "    <tr>\n",
       "      <th>std</th>\n",
       "      <td>0.498738</td>\n",
       "      <td>0.500140</td>\n",
       "      <td>0.373116</td>\n",
       "      <td>0.373116</td>\n",
       "      <td>0.276533</td>\n",
       "      <td>0.276533</td>\n",
       "      <td>0.383482</td>\n",
       "      <td>0.433861</td>\n",
       "      <td>0.502654</td>\n",
       "      <td>0.282778</td>\n",
       "      <td>0.285740</td>\n",
       "      <td>0.147144</td>\n",
       "    </tr>\n",
       "    <tr>\n",
       "      <th>min</th>\n",
       "      <td>0.000000</td>\n",
       "      <td>0.000000</td>\n",
       "      <td>0.000000</td>\n",
       "      <td>0.000000</td>\n",
       "      <td>0.000000</td>\n",
       "      <td>0.000000</td>\n",
       "      <td>0.000000</td>\n",
       "      <td>0.000000</td>\n",
       "      <td>0.000000</td>\n",
       "      <td>0.011000</td>\n",
       "      <td>0.011000</td>\n",
       "      <td>0.224453</td>\n",
       "    </tr>\n",
       "    <tr>\n",
       "      <th>25%</th>\n",
       "      <td>0.000000</td>\n",
       "      <td>0.000000</td>\n",
       "      <td>0.000000</td>\n",
       "      <td>0.000000</td>\n",
       "      <td>0.000000</td>\n",
       "      <td>0.000000</td>\n",
       "      <td>0.000000</td>\n",
       "      <td>0.000000</td>\n",
       "      <td>0.000000</td>\n",
       "      <td>0.220000</td>\n",
       "      <td>0.255000</td>\n",
       "      <td>0.391411</td>\n",
       "    </tr>\n",
       "    <tr>\n",
       "      <th>50%</th>\n",
       "      <td>0.000000</td>\n",
       "      <td>0.000000</td>\n",
       "      <td>0.000000</td>\n",
       "      <td>0.000000</td>\n",
       "      <td>0.000000</td>\n",
       "      <td>0.000000</td>\n",
       "      <td>0.000000</td>\n",
       "      <td>0.000000</td>\n",
       "      <td>1.000000</td>\n",
       "      <td>0.465000</td>\n",
       "      <td>0.465000</td>\n",
       "      <td>0.478298</td>\n",
       "    </tr>\n",
       "    <tr>\n",
       "      <th>75%</th>\n",
       "      <td>1.000000</td>\n",
       "      <td>1.000000</td>\n",
       "      <td>0.000000</td>\n",
       "      <td>0.000000</td>\n",
       "      <td>0.000000</td>\n",
       "      <td>0.000000</td>\n",
       "      <td>0.000000</td>\n",
       "      <td>0.000000</td>\n",
       "      <td>1.000000</td>\n",
       "      <td>0.732000</td>\n",
       "      <td>0.651000</td>\n",
       "      <td>0.598640</td>\n",
       "    </tr>\n",
       "    <tr>\n",
       "      <th>max</th>\n",
       "      <td>1.000000</td>\n",
       "      <td>1.000000</td>\n",
       "      <td>1.000000</td>\n",
       "      <td>1.000000</td>\n",
       "      <td>1.000000</td>\n",
       "      <td>1.000000</td>\n",
       "      <td>1.000000</td>\n",
       "      <td>1.000000</td>\n",
       "      <td>1.000000</td>\n",
       "      <td>0.988000</td>\n",
       "      <td>0.976000</td>\n",
       "      <td>0.841803</td>\n",
       "    </tr>\n",
       "  </tbody>\n",
       "</table>\n",
       "</div>"
      ],
      "text/plain": [
       "       chocolate     fruity    caramel  peanutyalmondy     nougat  \\\n",
       "count  85.000000  85.000000  85.000000       85.000000  85.000000   \n",
       "mean    0.435294   0.447059   0.164706        0.164706   0.082353   \n",
       "std     0.498738   0.500140   0.373116        0.373116   0.276533   \n",
       "min     0.000000   0.000000   0.000000        0.000000   0.000000   \n",
       "25%     0.000000   0.000000   0.000000        0.000000   0.000000   \n",
       "50%     0.000000   0.000000   0.000000        0.000000   0.000000   \n",
       "75%     1.000000   1.000000   0.000000        0.000000   0.000000   \n",
       "max     1.000000   1.000000   1.000000        1.000000   1.000000   \n",
       "\n",
       "       crispedricewafer       hard        bar   pluribus  sugarpercent  \\\n",
       "count         85.000000  85.000000  85.000000  85.000000     85.000000   \n",
       "mean           0.082353   0.176471   0.247059   0.517647      0.478647   \n",
       "std            0.276533   0.383482   0.433861   0.502654      0.282778   \n",
       "min            0.000000   0.000000   0.000000   0.000000      0.011000   \n",
       "25%            0.000000   0.000000   0.000000   0.000000      0.220000   \n",
       "50%            0.000000   0.000000   0.000000   1.000000      0.465000   \n",
       "75%            0.000000   0.000000   0.000000   1.000000      0.732000   \n",
       "max            1.000000   1.000000   1.000000   1.000000      0.988000   \n",
       "\n",
       "       pricepercent  winpercent  \n",
       "count     85.000000   85.000000  \n",
       "mean       0.468882    0.503168  \n",
       "std        0.285740    0.147144  \n",
       "min        0.011000    0.224453  \n",
       "25%        0.255000    0.391411  \n",
       "50%        0.465000    0.478298  \n",
       "75%        0.651000    0.598640  \n",
       "max        0.976000    0.841803  "
      ]
     },
     "execution_count": 285,
     "metadata": {},
     "output_type": "execute_result"
    }
   ],
   "source": [
    "#Prepare dataset for analysis\n",
    "data = raw_data.copy()\n",
    "data['winpercent']=data['winpercent']/100 #adjust range for Elastic Net\n",
    "data.describe()"
   ]
  },
  {
   "cell_type": "code",
   "execution_count": 286,
   "metadata": {},
   "outputs": [
    {
     "data": {
      "text/html": [
       "<style>#sk-container-id-8 {color: black;}#sk-container-id-8 pre{padding: 0;}#sk-container-id-8 div.sk-toggleable {background-color: white;}#sk-container-id-8 label.sk-toggleable__label {cursor: pointer;display: block;width: 100%;margin-bottom: 0;padding: 0.3em;box-sizing: border-box;text-align: center;}#sk-container-id-8 label.sk-toggleable__label-arrow:before {content: \"▸\";float: left;margin-right: 0.25em;color: #696969;}#sk-container-id-8 label.sk-toggleable__label-arrow:hover:before {color: black;}#sk-container-id-8 div.sk-estimator:hover label.sk-toggleable__label-arrow:before {color: black;}#sk-container-id-8 div.sk-toggleable__content {max-height: 0;max-width: 0;overflow: hidden;text-align: left;background-color: #f0f8ff;}#sk-container-id-8 div.sk-toggleable__content pre {margin: 0.2em;color: black;border-radius: 0.25em;background-color: #f0f8ff;}#sk-container-id-8 input.sk-toggleable__control:checked~div.sk-toggleable__content {max-height: 200px;max-width: 100%;overflow: auto;}#sk-container-id-8 input.sk-toggleable__control:checked~label.sk-toggleable__label-arrow:before {content: \"▾\";}#sk-container-id-8 div.sk-estimator input.sk-toggleable__control:checked~label.sk-toggleable__label {background-color: #d4ebff;}#sk-container-id-8 div.sk-label input.sk-toggleable__control:checked~label.sk-toggleable__label {background-color: #d4ebff;}#sk-container-id-8 input.sk-hidden--visually {border: 0;clip: rect(1px 1px 1px 1px);clip: rect(1px, 1px, 1px, 1px);height: 1px;margin: -1px;overflow: hidden;padding: 0;position: absolute;width: 1px;}#sk-container-id-8 div.sk-estimator {font-family: monospace;background-color: #f0f8ff;border: 1px dotted black;border-radius: 0.25em;box-sizing: border-box;margin-bottom: 0.5em;}#sk-container-id-8 div.sk-estimator:hover {background-color: #d4ebff;}#sk-container-id-8 div.sk-parallel-item::after {content: \"\";width: 100%;border-bottom: 1px solid gray;flex-grow: 1;}#sk-container-id-8 div.sk-label:hover label.sk-toggleable__label {background-color: #d4ebff;}#sk-container-id-8 div.sk-serial::before {content: \"\";position: absolute;border-left: 1px solid gray;box-sizing: border-box;top: 0;bottom: 0;left: 50%;z-index: 0;}#sk-container-id-8 div.sk-serial {display: flex;flex-direction: column;align-items: center;background-color: white;padding-right: 0.2em;padding-left: 0.2em;position: relative;}#sk-container-id-8 div.sk-item {position: relative;z-index: 1;}#sk-container-id-8 div.sk-parallel {display: flex;align-items: stretch;justify-content: center;background-color: white;position: relative;}#sk-container-id-8 div.sk-item::before, #sk-container-id-8 div.sk-parallel-item::before {content: \"\";position: absolute;border-left: 1px solid gray;box-sizing: border-box;top: 0;bottom: 0;left: 50%;z-index: -1;}#sk-container-id-8 div.sk-parallel-item {display: flex;flex-direction: column;z-index: 1;position: relative;background-color: white;}#sk-container-id-8 div.sk-parallel-item:first-child::after {align-self: flex-end;width: 50%;}#sk-container-id-8 div.sk-parallel-item:last-child::after {align-self: flex-start;width: 50%;}#sk-container-id-8 div.sk-parallel-item:only-child::after {width: 0;}#sk-container-id-8 div.sk-dashed-wrapped {border: 1px dashed gray;margin: 0 0.4em 0.5em 0.4em;box-sizing: border-box;padding-bottom: 0.4em;background-color: white;}#sk-container-id-8 div.sk-label label {font-family: monospace;font-weight: bold;display: inline-block;line-height: 1.2em;}#sk-container-id-8 div.sk-label-container {text-align: center;}#sk-container-id-8 div.sk-container {/* jupyter's `normalize.less` sets `[hidden] { display: none; }` but bootstrap.min.css set `[hidden] { display: none !important; }` so we also need the `!important` here to be able to override the default hidden behavior on the sphinx rendered scikit-learn.org. See: https://github.com/scikit-learn/scikit-learn/issues/21755 */display: inline-block !important;position: relative;}#sk-container-id-8 div.sk-text-repr-fallback {display: none;}</style><div id=\"sk-container-id-8\" class=\"sk-top-container\"><div class=\"sk-text-repr-fallback\"><pre>ElasticNetCV(cv=10, l1_ratio=[0.1, 0.25, 0.5, 0.75, 0.9], max_iter=10000,\n",
       "             random_state=13)</pre><b>In a Jupyter environment, please rerun this cell to show the HTML representation or trust the notebook. <br />On GitHub, the HTML representation is unable to render, please try loading this page with nbviewer.org.</b></div><div class=\"sk-container\" hidden><div class=\"sk-item\"><div class=\"sk-estimator sk-toggleable\"><input class=\"sk-toggleable__control sk-hidden--visually\" id=\"sk-estimator-id-8\" type=\"checkbox\" checked><label for=\"sk-estimator-id-8\" class=\"sk-toggleable__label sk-toggleable__label-arrow\">ElasticNetCV</label><div class=\"sk-toggleable__content\"><pre>ElasticNetCV(cv=10, l1_ratio=[0.1, 0.25, 0.5, 0.75, 0.9], max_iter=10000,\n",
       "             random_state=13)</pre></div></div></div></div></div>"
      ],
      "text/plain": [
       "ElasticNetCV(cv=10, l1_ratio=[0.1, 0.25, 0.5, 0.75, 0.9], max_iter=10000,\n",
       "             random_state=13)"
      ]
     },
     "execution_count": 286,
     "metadata": {},
     "output_type": "execute_result"
    }
   ],
   "source": [
    "#Separate target value and predictors\n",
    "y = data['winpercent'].values\n",
    "\n",
    "num_cols = ['pricepercent','sugarpercent']\n",
    "feature_columns = num_cols + candy_properties\n",
    "\n",
    "X = data[feature_columns].copy()\n",
    "\n",
    "#Scale predictors\n",
    "scaler = StandardScaler()\n",
    "X_scaled = scaler.fit_transform(X)\n",
    "\n",
    "#Split test and training data\n",
    "X_tr, X_te, y_tr, y_te = train_test_split(X_scaled, y, test_size=0.2, random_state=13)\n",
    "\n",
    "#Elastic Net Model with Cross Validation for hyperparameters\n",
    "enet = ElasticNetCV(l1_ratio=[0.1,0.25,0.5,0.75,0.9],alphas=None,cv=10,random_state=13,max_iter=10000)\n",
    "enet.fit(X_tr,y_tr)"
   ]
  },
  {
   "cell_type": "code",
   "execution_count": 287,
   "metadata": {},
   "outputs": [
    {
     "name": "stdout",
     "output_type": "stream",
     "text": [
      "Best α (l1_ratio): 0.9\n",
      "Best λ (alpha)   : 0.00759475216771691\n",
      "chocolate           0.077869\n",
      "peanutyalmondy      0.023545\n",
      "crispedricewafer    0.021440\n",
      "hard               -0.016751\n",
      "fruity              0.014484\n",
      "sugarpercent        0.008045\n",
      "pricepercent       -0.000000\n",
      "caramel             0.000000\n",
      "nougat             -0.000000\n",
      "bar                 0.000000\n",
      "pluribus           -0.000000\n",
      "dtype: float64\n",
      "Test-R²: 0.40340508875855463\n"
     ]
    }
   ],
   "source": [
    "print(\"Best α (l1_ratio):\", enet.l1_ratio_)\n",
    "print(\"Best λ (alpha)   :\", enet.alpha_)\n",
    "coefs = pd.Series(enet.coef_, index=feature_columns).sort_values(key=abs, ascending=False)\n",
    "print(coefs)\n",
    "print(\"Test-R²:\", enet.score(X_te, y_te))"
   ]
  },
  {
   "cell_type": "markdown",
   "metadata": {},
   "source": [
    "Elastic Net has a strong lean towards lasso (alpha = 0.9). The total penalty term, however, is small (lambda = 0.008). This means that the model tries to bring a lot of predictors that do not have a big impact on the popularity to zero, while letting the remaining properties have their full effect. This speaks for a strong impact of remaining properties. Properties that receive a coefficient of zero in this setup are not necessarily irrelevant in this setup, but have less impact than the remaining properties.  \n",
    "Chocolate, peanutyalmondy and crispedricewafer remain highly relevant. Bar is suppressed by lasso (presumably through high correlation with chocolate; to be investigated). Fruity surprisingly turns from a negative correlation to a low positive impact on popularity. This might be due to the fact that fruity flavors often appear in hard candies (to be investigated) which still have a negative impact on popularity in this analysis. Sugar seems to have a slight positive impact on popularity while price is suppressed by lasso.  \n",
    "40% of popularity variability can be explained through the model and it's properties. However, there are still many other factors that can influence the popularity of a candy beyond the represented predictors."
   ]
  },
  {
   "cell_type": "markdown",
   "metadata": {},
   "source": [
    "How many percent points does the popularity of a type of candy increase compared to the average candy?"
   ]
  },
  {
   "cell_type": "code",
   "execution_count": 288,
   "metadata": {},
   "outputs": [
    {
     "name": "stdout",
     "output_type": "stream",
     "text": [
      "Popularity increase in pp:\n",
      "chocolate           1.297346\n",
      "crispedricewafer    1.046863\n",
      "peanutyalmondy      0.775589\n",
      "hard               -0.529318\n",
      "fruity              0.235617\n",
      "sugarpercent        0.117682\n",
      "pricepercent       -0.000000\n",
      "caramel             0.000000\n",
      "nougat             -0.000000\n",
      "bar                 0.000000\n",
      "pluribus           -0.000000\n",
      "dtype: float64\n"
     ]
    }
   ],
   "source": [
    "#Calculate pp effect compared to average candy: jump of (1-mu)/sd\n",
    "X_raw       = raw_data[feature_columns]\n",
    "y_raw       = raw_data[\"winpercent\"]\n",
    "\n",
    "sd_y = y_raw.std(ddof=0)\n",
    "\n",
    "delta_z = {}\n",
    "\n",
    "for col in coefs.index:\n",
    "    x = X_raw[col]\n",
    "    \n",
    "    if set(x.unique()) <= {0, 1}: #binary properties\n",
    "        mu  = x.mean()\n",
    "        std = x.std(ddof=0)\n",
    "        delta_z[col] = (1 - mu) / std\n",
    "    else: #metric properties\n",
    "        delta_z[col] = 1.0\n",
    "\n",
    "#Translate coefficient effect to pp scale\n",
    "effect_pp = coefs * pd.Series(delta_z) * sd_y\n",
    "effect_pp = effect_pp.sort_values(key=np.abs, ascending=False)\n",
    "\n",
    "print(\"Popularity increase in pp:\")\n",
    "print(effect_pp)"
   ]
  },
  {
   "cell_type": "code",
   "execution_count": 289,
   "metadata": {},
   "outputs": [
    {
     "data": {
      "image/png": "[encoded data removed]",
      "text/plain": [
       "<Figure size 576x288 with 1 Axes>"
      ]
     },
     "metadata": {
      "needs_background": "light"
     },
     "output_type": "display_data"
    }
   ],
   "source": [
    "#Plot non-null results for managament summary slide (German labels)\n",
    "relevant_effects = effect_pp[effect_pp != 0].sort_values(key=np.abs)\n",
    "\n",
    "colors = ['green' if v > 0 else 'red' for v in relevant_effects]\n",
    "\n",
    "plt.figure(figsize=(8, 4))\n",
    "plt.barh(relevant_effects.index, relevant_effects.values, color=colors)\n",
    "plt.axvline(0, linewidth=0.8, color='black')   # Null‑Linie\n",
    "plt.xlabel('Beliebtheits‑Effekt (Prozentpunkte)')\n",
    "plt.ylabel('Merkmal')\n",
    "plt.tight_layout()\n",
    "plt.show()"
   ]
  },
  {
   "cell_type": "markdown",
   "metadata": {},
   "source": [
    "Crispiedricewafer becomes significantly more relevant because it is underrrepresented in the dataset. A small trial of two recipes (one with and one without crispiedricewafer) could give more insight if the addition is actually beneficial."
   ]
  },
  {
   "cell_type": "code",
   "execution_count": 290,
   "metadata": {},
   "outputs": [
    {
     "name": "stdout",
     "output_type": "stream",
     "text": [
      "CV-R² (mean ± sd): 0.326 ± 0.205\n"
     ]
    }
   ],
   "source": [
    "#Train model again with fixed hyperparameters\n",
    "enet_fixed = ElasticNet(\n",
    "        alpha   = enet.alpha_,\n",
    "        l1_ratio= enet.l1_ratio_,\n",
    "        max_iter=10000,\n",
    "        random_state=13\n",
    ").fit(X_tr, y_tr)\n",
    "\n",
    "#Crossvalidation on entire dataset with fixed hyperparameters\n",
    "rkf = RepeatedKFold(n_splits=5, n_repeats=20, random_state=13)\n",
    "cv_r2 = cross_val_score(enet_fixed, X_scaled, y, cv=rkf, scoring=\"r2\", n_jobs=-1)\n",
    "print(f\"CV-R² (mean ± sd): {cv_r2.mean():.3f} ± {cv_r2.std():.3f}\")"
   ]
  },
  {
   "cell_type": "markdown",
   "metadata": {},
   "source": [
    "High std can be explained by small dataset. If test set contains many candies with features where coefficients are 0, the resulting r2 will be bad. This has no significant relevance in this analysis since the goal is to find the properties with the most impact."
   ]
  },
  {
   "cell_type": "markdown",
   "metadata": {},
   "source": [
    "Some additional checks for potentially correlated properties in the dataset:\n",
    "1) Chocolate/Bar\n",
    "2) Fruity/Hard\n",
    "3) Fruity/Chocolate"
   ]
  },
  {
   "cell_type": "code",
   "execution_count": 291,
   "metadata": {},
   "outputs": [
    {
     "data": {
      "text/plain": [
       "20"
      ]
     },
     "execution_count": 291,
     "metadata": {},
     "output_type": "execute_result"
    }
   ],
   "source": [
    "len(raw_data.loc[(raw_data['chocolate']==1) & (raw_data['bar']==1)])"
   ]
  },
  {
   "cell_type": "code",
   "execution_count": 292,
   "metadata": {},
   "outputs": [
    {
     "data": {
      "text/plain": [
       "1"
      ]
     },
     "execution_count": 292,
     "metadata": {},
     "output_type": "execute_result"
    }
   ],
   "source": [
    "len(raw_data.loc[(raw_data['chocolate']==0) & (raw_data['bar']==1)])"
   ]
  },
  {
   "cell_type": "code",
   "execution_count": 293,
   "metadata": {},
   "outputs": [
    {
     "data": {
      "text/plain": [
       "17"
      ]
     },
     "execution_count": 293,
     "metadata": {},
     "output_type": "execute_result"
    }
   ],
   "source": [
    "len(raw_data.loc[(raw_data['chocolate']==1) & (raw_data['bar']==0)])"
   ]
  },
  {
   "cell_type": "code",
   "execution_count": 294,
   "metadata": {},
   "outputs": [
    {
     "data": {
      "text/plain": [
       "62.045353399999996"
      ]
     },
     "execution_count": 294,
     "metadata": {},
     "output_type": "execute_result"
    }
   ],
   "source": [
    "raw_data.loc[(raw_data['chocolate']==1) & (raw_data['bar']==1)]['winpercent'].mean()"
   ]
  },
  {
   "cell_type": "code",
   "execution_count": 295,
   "metadata": {},
   "outputs": [
    {
     "data": {
      "text/plain": [
       "59.59938352941176"
      ]
     },
     "execution_count": 295,
     "metadata": {},
     "output_type": "execute_result"
    }
   ],
   "source": [
    "raw_data.loc[(raw_data['chocolate']==1) & (raw_data['bar']==0)]['winpercent'].mean()"
   ]
  },
  {
   "cell_type": "markdown",
   "metadata": {},
   "source": [
    "Only one bar does not contain chocolate. This might explain why the bar property was dismissed by Elastic Net since chocolate is a strong predictor. Chocolate bars show a slightly higher popularity (not significant) than non-bar chocolate items. Bar property can be added based on already existing assortment."
   ]
  },
  {
   "cell_type": "code",
   "execution_count": 296,
   "metadata": {},
   "outputs": [
    {
     "data": {
      "text/plain": [
       "13"
      ]
     },
     "execution_count": 296,
     "metadata": {},
     "output_type": "execute_result"
    }
   ],
   "source": [
    "len(raw_data.loc[(raw_data['fruity']==1) & (raw_data['hard']==1)])"
   ]
  },
  {
   "cell_type": "code",
   "execution_count": 297,
   "metadata": {},
   "outputs": [
    {
     "data": {
      "text/plain": [
       "2"
      ]
     },
     "execution_count": 297,
     "metadata": {},
     "output_type": "execute_result"
    }
   ],
   "source": [
    "len(raw_data.loc[(raw_data['fruity']==0) & (raw_data['hard']==1)])"
   ]
  },
  {
   "cell_type": "code",
   "execution_count": 298,
   "metadata": {},
   "outputs": [
    {
     "data": {
      "text/plain": [
       "25"
      ]
     },
     "execution_count": 298,
     "metadata": {},
     "output_type": "execute_result"
    }
   ],
   "source": [
    "len(raw_data.loc[(raw_data['fruity']==1) & (raw_data['hard']==0)])"
   ]
  },
  {
   "cell_type": "code",
   "execution_count": 299,
   "metadata": {},
   "outputs": [
    {
     "data": {
      "text/plain": [
       "1"
      ]
     },
     "execution_count": 299,
     "metadata": {},
     "output_type": "execute_result"
    }
   ],
   "source": [
    "len(raw_data.loc[(raw_data['fruity']==1) & (raw_data['chocolate']==1)])"
   ]
  },
  {
   "cell_type": "code",
   "execution_count": 300,
   "metadata": {},
   "outputs": [
    {
     "data": {
      "text/plain": [
       "41.23282523076924"
      ]
     },
     "execution_count": 300,
     "metadata": {},
     "output_type": "execute_result"
    }
   ],
   "source": [
    "raw_data.loc[(raw_data['fruity']==1) & (raw_data['hard']==1)]['winpercent'].mean()"
   ]
  },
  {
   "cell_type": "code",
   "execution_count": 301,
   "metadata": {},
   "outputs": [
    {
     "data": {
      "text/plain": [
       "45.620937839999996"
      ]
     },
     "execution_count": 301,
     "metadata": {},
     "output_type": "execute_result"
    }
   ],
   "source": [
    "raw_data.loc[(raw_data['fruity']==1) & (raw_data['hard']==0)]['winpercent'].mean()"
   ]
  },
  {
   "cell_type": "markdown",
   "metadata": {},
   "source": [
    "Properties fruity and hard appear together often (fruity flavors perform slightly better withot hard property), chocolate and fruity combinations do not appear often. Combining a fruity flavor with chocolate could be a niche in the market, but would be very experimental."
   ]
  },
  {
   "cell_type": "markdown",
   "metadata": {},
   "source": [
    "Assuming assorment = provided dataset:"
   ]
  },
  {
   "cell_type": "code",
   "execution_count": 302,
   "metadata": {},
   "outputs": [
    {
     "data": {
      "text/html": [
       "<div>\n",
       "<style scoped>\n",
       "    .dataframe tbody tr th:only-of-type {\n",
       "        vertical-align: middle;\n",
       "    }\n",
       "\n",
       "    .dataframe tbody tr th {\n",
       "        vertical-align: top;\n",
       "    }\n",
       "\n",
       "    .dataframe thead th {\n",
       "        text-align: right;\n",
       "    }\n",
       "</style>\n",
       "<table border=\"1\" class=\"dataframe\">\n",
       "  <thead>\n",
       "    <tr style=\"text-align: right;\">\n",
       "      <th></th>\n",
       "      <th>competitorname</th>\n",
       "      <th>chocolate</th>\n",
       "      <th>fruity</th>\n",
       "      <th>caramel</th>\n",
       "      <th>peanutyalmondy</th>\n",
       "      <th>nougat</th>\n",
       "      <th>crispedricewafer</th>\n",
       "      <th>hard</th>\n",
       "      <th>bar</th>\n",
       "      <th>pluribus</th>\n",
       "      <th>sugarpercent</th>\n",
       "      <th>pricepercent</th>\n",
       "      <th>winpercent</th>\n",
       "    </tr>\n",
       "  </thead>\n",
       "  <tbody>\n",
       "    <tr>\n",
       "      <th>65</th>\n",
       "      <td>Snickers Crisper</td>\n",
       "      <td>1</td>\n",
       "      <td>0</td>\n",
       "      <td>1</td>\n",
       "      <td>1</td>\n",
       "      <td>0</td>\n",
       "      <td>1</td>\n",
       "      <td>0</td>\n",
       "      <td>1</td>\n",
       "      <td>0</td>\n",
       "      <td>0.604</td>\n",
       "      <td>0.651</td>\n",
       "      <td>59.529251</td>\n",
       "    </tr>\n",
       "  </tbody>\n",
       "</table>\n",
       "</div>"
      ],
      "text/plain": [
       "      competitorname  chocolate  fruity  caramel  peanutyalmondy  nougat  \\\n",
       "65  Snickers Crisper          1       0        1               1       0   \n",
       "\n",
       "    crispedricewafer  hard  bar  pluribus  sugarpercent  pricepercent  \\\n",
       "65                 1     0    1         0         0.604         0.651   \n",
       "\n",
       "    winpercent  \n",
       "65   59.529251  "
      ]
     },
     "execution_count": 302,
     "metadata": {},
     "output_type": "execute_result"
    }
   ],
   "source": [
    "raw_data.loc[(raw_data['chocolate']==1) & (raw_data['crispedricewafer']==1) & (raw_data['bar']==1) & (raw_data['peanutyalmondy']==1)]"
   ]
  },
  {
   "cell_type": "code",
   "execution_count": 303,
   "metadata": {},
   "outputs": [
    {
     "data": {
      "text/html": [
       "<div>\n",
       "<style scoped>\n",
       "    .dataframe tbody tr th:only-of-type {\n",
       "        vertical-align: middle;\n",
       "    }\n",
       "\n",
       "    .dataframe tbody tr th {\n",
       "        vertical-align: top;\n",
       "    }\n",
       "\n",
       "    .dataframe thead th {\n",
       "        text-align: right;\n",
       "    }\n",
       "</style>\n",
       "<table border=\"1\" class=\"dataframe\">\n",
       "  <thead>\n",
       "    <tr style=\"text-align: right;\">\n",
       "      <th></th>\n",
       "      <th>competitorname</th>\n",
       "      <th>chocolate</th>\n",
       "      <th>fruity</th>\n",
       "      <th>caramel</th>\n",
       "      <th>peanutyalmondy</th>\n",
       "      <th>nougat</th>\n",
       "      <th>crispedricewafer</th>\n",
       "      <th>hard</th>\n",
       "      <th>bar</th>\n",
       "      <th>pluribus</th>\n",
       "      <th>sugarpercent</th>\n",
       "      <th>pricepercent</th>\n",
       "      <th>winpercent</th>\n",
       "    </tr>\n",
       "  </thead>\n",
       "  <tbody>\n",
       "  </tbody>\n",
       "</table>\n",
       "</div>"
      ],
      "text/plain": [
       "Empty DataFrame\n",
       "Columns: [competitorname, chocolate, fruity, caramel, peanutyalmondy, nougat, crispedricewafer, hard, bar, pluribus, sugarpercent, pricepercent, winpercent]\n",
       "Index: []"
      ]
     },
     "execution_count": 303,
     "metadata": {},
     "output_type": "execute_result"
    }
   ],
   "source": [
    "raw_data.loc[(raw_data['chocolate']==1) & (raw_data['crispedricewafer']==1) & (raw_data['bar']==0) & (raw_data['peanutyalmondy']==1)]"
   ]
  },
  {
   "cell_type": "code",
   "execution_count": 304,
   "metadata": {},
   "outputs": [
    {
     "data": {
      "text/html": [
       "<div>\n",
       "<style scoped>\n",
       "    .dataframe tbody tr th:only-of-type {\n",
       "        vertical-align: middle;\n",
       "    }\n",
       "\n",
       "    .dataframe tbody tr th {\n",
       "        vertical-align: top;\n",
       "    }\n",
       "\n",
       "    .dataframe thead th {\n",
       "        text-align: right;\n",
       "    }\n",
       "</style>\n",
       "<table border=\"1\" class=\"dataframe\">\n",
       "  <thead>\n",
       "    <tr style=\"text-align: right;\">\n",
       "      <th></th>\n",
       "      <th>competitorname</th>\n",
       "      <th>chocolate</th>\n",
       "      <th>fruity</th>\n",
       "      <th>caramel</th>\n",
       "      <th>peanutyalmondy</th>\n",
       "      <th>nougat</th>\n",
       "      <th>crispedricewafer</th>\n",
       "      <th>hard</th>\n",
       "      <th>bar</th>\n",
       "      <th>pluribus</th>\n",
       "      <th>sugarpercent</th>\n",
       "      <th>pricepercent</th>\n",
       "      <th>winpercent</th>\n",
       "    </tr>\n",
       "  </thead>\n",
       "  <tbody>\n",
       "    <tr>\n",
       "      <th>5</th>\n",
       "      <td>Almond Joy</td>\n",
       "      <td>1</td>\n",
       "      <td>0</td>\n",
       "      <td>0</td>\n",
       "      <td>1</td>\n",
       "      <td>0</td>\n",
       "      <td>0</td>\n",
       "      <td>0</td>\n",
       "      <td>1</td>\n",
       "      <td>0</td>\n",
       "      <td>0.465</td>\n",
       "      <td>0.767</td>\n",
       "      <td>50.347546</td>\n",
       "    </tr>\n",
       "    <tr>\n",
       "      <th>6</th>\n",
       "      <td>Baby Ruth</td>\n",
       "      <td>1</td>\n",
       "      <td>0</td>\n",
       "      <td>1</td>\n",
       "      <td>1</td>\n",
       "      <td>1</td>\n",
       "      <td>0</td>\n",
       "      <td>0</td>\n",
       "      <td>1</td>\n",
       "      <td>0</td>\n",
       "      <td>0.604</td>\n",
       "      <td>0.767</td>\n",
       "      <td>56.914547</td>\n",
       "    </tr>\n",
       "    <tr>\n",
       "      <th>40</th>\n",
       "      <td>Mr Good Bar</td>\n",
       "      <td>1</td>\n",
       "      <td>0</td>\n",
       "      <td>0</td>\n",
       "      <td>1</td>\n",
       "      <td>0</td>\n",
       "      <td>0</td>\n",
       "      <td>0</td>\n",
       "      <td>1</td>\n",
       "      <td>0</td>\n",
       "      <td>0.313</td>\n",
       "      <td>0.918</td>\n",
       "      <td>54.526451</td>\n",
       "    </tr>\n",
       "    <tr>\n",
       "      <th>42</th>\n",
       "      <td>Nestle Butterfinger</td>\n",
       "      <td>1</td>\n",
       "      <td>0</td>\n",
       "      <td>0</td>\n",
       "      <td>1</td>\n",
       "      <td>0</td>\n",
       "      <td>0</td>\n",
       "      <td>0</td>\n",
       "      <td>1</td>\n",
       "      <td>0</td>\n",
       "      <td>0.604</td>\n",
       "      <td>0.767</td>\n",
       "      <td>70.735641</td>\n",
       "    </tr>\n",
       "    <tr>\n",
       "      <th>64</th>\n",
       "      <td>Snickers</td>\n",
       "      <td>1</td>\n",
       "      <td>0</td>\n",
       "      <td>1</td>\n",
       "      <td>1</td>\n",
       "      <td>1</td>\n",
       "      <td>0</td>\n",
       "      <td>0</td>\n",
       "      <td>1</td>\n",
       "      <td>0</td>\n",
       "      <td>0.546</td>\n",
       "      <td>0.651</td>\n",
       "      <td>76.673782</td>\n",
       "    </tr>\n",
       "  </tbody>\n",
       "</table>\n",
       "</div>"
      ],
      "text/plain": [
       "         competitorname  chocolate  fruity  caramel  peanutyalmondy  nougat  \\\n",
       "5            Almond Joy          1       0        0               1       0   \n",
       "6             Baby Ruth          1       0        1               1       1   \n",
       "40          Mr Good Bar          1       0        0               1       0   \n",
       "42  Nestle Butterfinger          1       0        0               1       0   \n",
       "64             Snickers          1       0        1               1       1   \n",
       "\n",
       "    crispedricewafer  hard  bar  pluribus  sugarpercent  pricepercent  \\\n",
       "5                  0     0    1         0         0.465         0.767   \n",
       "6                  0     0    1         0         0.604         0.767   \n",
       "40                 0     0    1         0         0.313         0.918   \n",
       "42                 0     0    1         0         0.604         0.767   \n",
       "64                 0     0    1         0         0.546         0.651   \n",
       "\n",
       "    winpercent  \n",
       "5    50.347546  \n",
       "6    56.914547  \n",
       "40   54.526451  \n",
       "42   70.735641  \n",
       "64   76.673782  "
      ]
     },
     "execution_count": 304,
     "metadata": {},
     "output_type": "execute_result"
    }
   ],
   "source": [
    "raw_data.loc[(raw_data['chocolate']==1) & (raw_data['crispedricewafer']==0) & (raw_data['bar']==1) & (raw_data['peanutyalmondy']==1)]"
   ]
  },
  {
   "cell_type": "code",
   "execution_count": 305,
   "metadata": {},
   "outputs": [
    {
     "data": {
      "text/html": [
       "<div>\n",
       "<style scoped>\n",
       "    .dataframe tbody tr th:only-of-type {\n",
       "        vertical-align: middle;\n",
       "    }\n",
       "\n",
       "    .dataframe tbody tr th {\n",
       "        vertical-align: top;\n",
       "    }\n",
       "\n",
       "    .dataframe thead th {\n",
       "        text-align: right;\n",
       "    }\n",
       "</style>\n",
       "<table border=\"1\" class=\"dataframe\">\n",
       "  <thead>\n",
       "    <tr style=\"text-align: right;\">\n",
       "      <th></th>\n",
       "      <th>competitorname</th>\n",
       "      <th>chocolate</th>\n",
       "      <th>fruity</th>\n",
       "      <th>caramel</th>\n",
       "      <th>peanutyalmondy</th>\n",
       "      <th>nougat</th>\n",
       "      <th>crispedricewafer</th>\n",
       "      <th>hard</th>\n",
       "      <th>bar</th>\n",
       "      <th>pluribus</th>\n",
       "      <th>sugarpercent</th>\n",
       "      <th>pricepercent</th>\n",
       "      <th>winpercent</th>\n",
       "    </tr>\n",
       "  </thead>\n",
       "  <tbody>\n",
       "    <tr>\n",
       "      <th>32</th>\n",
       "      <td>Peanut butter M&amp;M's</td>\n",
       "      <td>1</td>\n",
       "      <td>0</td>\n",
       "      <td>0</td>\n",
       "      <td>1</td>\n",
       "      <td>0</td>\n",
       "      <td>0</td>\n",
       "      <td>0</td>\n",
       "      <td>0</td>\n",
       "      <td>1</td>\n",
       "      <td>0.825</td>\n",
       "      <td>0.651</td>\n",
       "      <td>71.465050</td>\n",
       "    </tr>\n",
       "    <tr>\n",
       "      <th>47</th>\n",
       "      <td>Peanut M&amp;Ms</td>\n",
       "      <td>1</td>\n",
       "      <td>0</td>\n",
       "      <td>0</td>\n",
       "      <td>1</td>\n",
       "      <td>0</td>\n",
       "      <td>0</td>\n",
       "      <td>0</td>\n",
       "      <td>0</td>\n",
       "      <td>1</td>\n",
       "      <td>0.593</td>\n",
       "      <td>0.651</td>\n",
       "      <td>69.483788</td>\n",
       "    </tr>\n",
       "    <tr>\n",
       "      <th>51</th>\n",
       "      <td>Reese's Miniatures</td>\n",
       "      <td>1</td>\n",
       "      <td>0</td>\n",
       "      <td>0</td>\n",
       "      <td>1</td>\n",
       "      <td>0</td>\n",
       "      <td>0</td>\n",
       "      <td>0</td>\n",
       "      <td>0</td>\n",
       "      <td>0</td>\n",
       "      <td>0.034</td>\n",
       "      <td>0.279</td>\n",
       "      <td>81.866257</td>\n",
       "    </tr>\n",
       "    <tr>\n",
       "      <th>52</th>\n",
       "      <td>Reese's Peanut Butter cup</td>\n",
       "      <td>1</td>\n",
       "      <td>0</td>\n",
       "      <td>0</td>\n",
       "      <td>1</td>\n",
       "      <td>0</td>\n",
       "      <td>0</td>\n",
       "      <td>0</td>\n",
       "      <td>0</td>\n",
       "      <td>0</td>\n",
       "      <td>0.720</td>\n",
       "      <td>0.651</td>\n",
       "      <td>84.180290</td>\n",
       "    </tr>\n",
       "    <tr>\n",
       "      <th>53</th>\n",
       "      <td>Reese's pieces</td>\n",
       "      <td>1</td>\n",
       "      <td>0</td>\n",
       "      <td>0</td>\n",
       "      <td>1</td>\n",
       "      <td>0</td>\n",
       "      <td>0</td>\n",
       "      <td>0</td>\n",
       "      <td>0</td>\n",
       "      <td>1</td>\n",
       "      <td>0.406</td>\n",
       "      <td>0.651</td>\n",
       "      <td>73.434990</td>\n",
       "    </tr>\n",
       "    <tr>\n",
       "      <th>54</th>\n",
       "      <td>Reese's stuffed with pieces</td>\n",
       "      <td>1</td>\n",
       "      <td>0</td>\n",
       "      <td>0</td>\n",
       "      <td>1</td>\n",
       "      <td>0</td>\n",
       "      <td>0</td>\n",
       "      <td>0</td>\n",
       "      <td>0</td>\n",
       "      <td>0</td>\n",
       "      <td>0.988</td>\n",
       "      <td>0.651</td>\n",
       "      <td>72.887901</td>\n",
       "    </tr>\n",
       "  </tbody>\n",
       "</table>\n",
       "</div>"
      ],
      "text/plain": [
       "                 competitorname  chocolate  fruity  caramel  peanutyalmondy  \\\n",
       "32          Peanut butter M&M's          1       0        0               1   \n",
       "47                  Peanut M&Ms          1       0        0               1   \n",
       "51           Reese's Miniatures          1       0        0               1   \n",
       "52    Reese's Peanut Butter cup          1       0        0               1   \n",
       "53               Reese's pieces          1       0        0               1   \n",
       "54  Reese's stuffed with pieces          1       0        0               1   \n",
       "\n",
       "    nougat  crispedricewafer  hard  bar  pluribus  sugarpercent  pricepercent  \\\n",
       "32       0                 0     0    0         1         0.825         0.651   \n",
       "47       0                 0     0    0         1         0.593         0.651   \n",
       "51       0                 0     0    0         0         0.034         0.279   \n",
       "52       0                 0     0    0         0         0.720         0.651   \n",
       "53       0                 0     0    0         1         0.406         0.651   \n",
       "54       0                 0     0    0         0         0.988         0.651   \n",
       "\n",
       "    winpercent  \n",
       "32   71.465050  \n",
       "47   69.483788  \n",
       "51   81.866257  \n",
       "52   84.180290  \n",
       "53   73.434990  \n",
       "54   72.887901  "
      ]
     },
     "execution_count": 305,
     "metadata": {},
     "output_type": "execute_result"
    }
   ],
   "source": [
    "raw_data.loc[(raw_data['chocolate']==1) & (raw_data['crispedricewafer']==0) & (raw_data['bar']==0) & (raw_data['peanutyalmondy']==1)]"
   ]
  },
  {
   "cell_type": "markdown",
   "metadata": {},
   "source": [
    "Assuming the assortment is equal to the provided dataset, my recommendation would be to go with one of the following two combinations:\n",
    "1) Chocolate, peanutyalmondy, crispedricewafer\n",
    "2) Chocolate, peanutyalmondy, crispedricewafer, bar\n",
    "\n",
    "The addition of the crispedricewafer should to be assessed in a small triangle test, but the property is not contained in a lot of the current products and therefore provides a gap in the market.  \n",
    "The consistency should not be hard, the addition of fruity flavors can be tested additionally or considered for future sub-types of the new store brand candy."
   ]
  },
  {
   "cell_type": "markdown",
   "metadata": {},
   "source": [
    "To further assess the influence of combined effects (chocolate/bar, fruity/hard) and non-linear effects a Gradient Boosted Tree with SHAP (SHapley Additive exPlanations) could be performed.  \n",
    "Confidence intervals for small representations of properties can be added through Bootstrapping."
   ]
  }
 ],
 "metadata": {
  "kernelspec": {
   "display_name": "Python 3",
   "language": "python",
   "name": "python3"
  },
  "language_info": {
   "codemirror_mode": {
    "name": "ipython",
    "version": 3
   },
   "file_extension": ".py",
   "mimetype": "text/x-python",
   "name": "python",
   "nbconvert_exporter": "python",
   "pygments_lexer": "ipython3",
   "version": "3.8.7"
  }
 },
 "nbformat": 4,
 "nbformat_minor": 2
}
